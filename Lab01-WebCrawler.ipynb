{
 "cells": [
  {
   "cell_type": "markdown",
   "metadata": {
    "colab_type": "text",
    "id": "2pCaNEE5V4Kd"
   },
   "source": [
    "# Lab01: Web Crawler.\n",
    "\n",
    "- MSSV: 19120138\n",
    "- Họ và tên: Trần Đức Thuỵ"
   ]
  },
  {
   "cell_type": "markdown",
   "metadata": {
    "colab_type": "text",
    "id": "RW12ABtEV4Kf"
   },
   "source": [
    "## Yêu cầu bài tập\n",
    "\n",
    "**Cách làm bài**\n",
    "\n",
    "\n",
    "Bạn sẽ làm trực tiếp trên file notebook này; trong file, từ `TODO` để cho biết những phần mà bạn cần phải làm.\n",
    "\n",
    "Bạn có thể thảo luận ý tưởng cũng như tham khảo các tài liệu, nhưng *code và bài làm phải là của bạn*. \n",
    "\n",
    "Nếu vi phạm thì sẽ bị 0 điểm cho bài tập này.\n",
    "\n",
    "**Cách nộp bài**\n",
    "\n",
    "Trước khi nộp bài, rerun lại notebook (`Kernel` -> `Restart & Run All`).\n",
    "\n",
    "Sau đó, tạo thư mục có tên `MSSV` của bạn (vd, nếu bạn có MSSV là 1234567 thì bạn đặt tên thư mục là `1234567`) Chép file `Lab01-WebCrawler.ipynb`, `links.txt`, `images.txt` vào, rồi nén thư mục `MSSV` này lại và nộp ở link trên moodle.\n",
    "\n",
    "**Nội dung bài tập**\n",
    "\n",
    "Sử dụng module regex và request để thu thập đường dẫn và hình ảnh từ một trang web."
   ]
  },
  {
   "cell_type": "markdown",
   "metadata": {},
   "source": [
    "## Part 1: Thu thập dữ liệu đơn giản"
   ]
  },
  {
   "cell_type": "markdown",
   "metadata": {
    "colab_type": "text",
    "id": "7SXPfWz-V4Kg"
   },
   "source": [
    "### 1.1. Import"
   ]
  },
  {
   "cell_type": "code",
   "execution_count": 1,
   "metadata": {
    "colab": {},
    "colab_type": "code",
    "id": "NZH1daHoV4Kg"
   },
   "outputs": [],
   "source": [
    "import requests\n",
    "import re"
   ]
  },
  {
   "cell_type": "markdown",
   "metadata": {
    "colab_type": "text",
    "id": "WzzuOjDGV4Kl"
   },
   "source": [
    "### 1.2. Thu thập liên kết"
   ]
  },
  {
   "cell_type": "code",
   "execution_count": 2,
   "metadata": {
    "colab": {},
    "colab_type": "code",
    "id": "bKNjb0THV4Km",
    "outputId": "ef7e8623-d644-4001-ce5c-31b845a37035",
    "scrolled": false
   },
   "outputs": [
    {
     "name": "stdout",
     "output_type": "stream",
     "text": [
      "http://ogp.me/ns\n",
      "http://ogp.me/ns/fb\n",
      "http://www.bmrat.org/\n",
      "http://ogp.me/ns/website\n",
      "http://cellstemcell.org/\n",
      "http://www.e-learning.vn\n",
      "https://jobs.hcmus.edu.vn\n",
      "https://sdh.hcmus.edu.vn/\n",
      "https://www.hcmus.edu.vn/\n",
      "https://hnkh.hcmus.edu.vn/\n",
      "http://mail.office365.com/\n",
      "http://www.hcmus.edu.vn\n",
      "http://doantn.hcmus.edu.vn/\n",
      "http://portal.hcmus.edu.vn/\n",
      "http://hocphi.hcmus.edu.vn/\n",
      "https://youtu.be/UA8eJ7NZYKc\n",
      "https://www.hcmus.edu.vn/job\n",
      "http://www.w3.org/1999/xhtml\n",
      "https://pdt.hcmus.edu.vn/dstn\n",
      "http://congdoan.hcmus.edu.vn/\n",
      "https://www.hcmus.edu.vn/cbvc\n",
      "https://www.hcmus.edu.vn/phone\n",
      "https://research.hcmus.edu.vn/\n",
      "http://tuyensinh.hcmus.edu.vn/\n",
      "https://tuyensinh.hcmus.edu.vn/\n",
      "https://www.facebook.com/us.vnuhcm\n",
      "https://www.hcmus.edu.vn/sinh-vien\n",
      "https://sdh.hcmus.edu.vn/thong-bao/\n",
      "https://www.facebook.com/tvts.hcmus\n",
      "https://sdh.hcmus.edu.vn/tuyen-sinh/\n",
      "https://www.hcmus.edu.vn/ho-so-pgs-gs\n",
      "http://www.hcmus.edu.vn/lich-cong-tac\n",
      "http://ajhs.biomedpress.org/index.php/ajhs\n",
      "http://stdjns.scienceandtechnology.com.vn/\n",
      "http://www.progressinbiology.org/index.php/ProBio\n",
      "https://www.hcmus.edu.vn/images/2022/09/28/2.png\n",
      "https://www.hcmus.edu.vn/images/2022/09/28/1.png\n",
      "https://www.hcmus.edu.vn/images/2022/09/28/4.png\n",
      "https://www.hcmus.edu.vn/images/2022/09/29/7.png\n",
      "https://www.hcmus.edu.vn/images/2022/09/29/5.png\n",
      "https://www.hcmus.edu.vn/images/2022/09/28/3.png\n",
      "https://drive.google.com/file/d/1Bs2UR7-rnKEA7q5VweFSjdt9tjT5x-03/view\n",
      "https://www.hcmus.edu.vn/images/2022/09/29/untitled-500-300-px-300-300-px-5.png\n",
      "https://drive.google.com/file/d/1fqX5dnpyJ0d6lDzuerHy5VTDOAknOQRC/view?usp=sharing\n",
      "https://www.hcmus.edu.vn/images/z3336142106615_c6035997d22a0dbe3efa0a089aec7933.jpg\n",
      "https://drive.google.com/drive/folders/1-uM8GVVLmcEQTO-ekpAxKlxzoqiYlRcB?usp=sharing\n",
      "https://www.hcmus.edu.vn/component/search/?id=4654&amp;Itemid=437&amp;format=opensearch\n",
      "https://video.voh.com.vn/khoi-nghiep-sang-tao/nghien-cuu-pin-lithium-ion-dang-tui-444550.html\n",
      "https://docs.google.com/forms/d/e/1FAIpQLSf0rGZpwUlgSuACUPnd_Q1SyrY0eSAB7sOOyCKiWUY5CdeLqQ/viewform\n",
      "https://video.voh.com.vn/khoi-nghiep-sang-tao/nghien-cuu-loai-tinh-dau-thu-hut-ruoi-duc-qua-446013.html\n",
      "https://video.voh.com.vn/khoi-nghiep-sang-tao/che-pham-tu-to-tam-giup-bao-quan-rau-cu-qua-tuoi-444829.html\n",
      "https://video.voh.com.vn/khoi-nghiep-sang-tao/que-thu-phat-hien-nhanh-benh-hoai-tu-gan-tuy-cap-o-tom-445604.html\n",
      "https://video.voh.com.vn/khoi-nghiep-sang-tao/loai-pin-mat-troi-moi-co-the-tao-nhieu-loai-hoa-van-khac-nhau-447500.html\n",
      "https://video.voh.com.vn/khoi-nghiep-sang-tao/nghien-cuu-nhieu-san-pham-tu-te-bao-goc-phuc-vu-dieu-tri-benh-446446.html\n",
      "https://video.voh.com.vn/khoi-nghiep-sang-tao/san-pham-ho-tro-dieu-tri-ung-thu-va-viem-loet-da-day-tu-cu-ngai-bun-448187.html\n",
      "https://forms.office.com/pages/responsepage.aspx?id=1HwSQPNFo0mwXTFaQ6nwM35NluEoXbZIssP2uQG4klxUMjE2ME00M0I3RzlMRDJFWUlOQlNFNVpIRC4u\n",
      "https://forms.office.com/pages/responsepage.aspx?id=1HwSQPNFo0mwXTFaQ6nwM33dGsfNgkNGqrMfQsh_HEZUREU4UTJGMDhCTEsyN1ExSUpJSE9FVlhOMS4u\n",
      "https://video.voh.com.vn/khoi-nghiep-sang-tao/thiet-bi-giup-tim-kiem-nuoc-ngam-tim-kiem-khoang-san-khao-sat-dia-chat-cong-trinh-449031.html\n",
      "https://www.google.com/a/hcmus.edu.vn/ServiceLogin?service=mail&amp;passive=true&amp;rm=false&amp;continue=http://mail.google.com/a/hcmus.edu.vn/&amp;ltmpl=default&amp;ltmplcache=2\n",
      "59\n"
     ]
    }
   ],
   "source": [
    "r = requests.get(\"http://www.hcmus.edu.vn\")\n",
    "\n",
    "# TODO:\n",
    "# Displays all the links present in the specified root URL - \"http://www.hcmus.edu.vn\"\n",
    "# use regex to find all urls from r.text (http[s]://...)\n",
    "# urls = ? \n",
    "r = requests.get(\"http://www.hcmus.edu.vn\")\n",
    "text = r.text\n",
    "url_regex =r\"http[s]*://[a-zA-Z0-9?&-=;/_]*\"\n",
    "urls = re.findall(url_regex, text)\n",
    "urls = list(set(urls))\n",
    "urls.sort(key=lambda k: len(k))\n",
    "urls = [url.strip(\"');\") for url in urls]\n",
    "# Checking results?\n",
    "for i in urls:\n",
    "        print(i)\n",
    "print(len(urls))\n",
    "#Save urls to links.txt\n",
    "fp = open('links.txt', 'w')\n",
    "for i in urls:\n",
    "    fp.write(i)\n",
    "    fp.write('\\n')\n",
    "fp.close()"
   ]
  },
  {
   "cell_type": "markdown",
   "metadata": {
    "colab_type": "text",
    "id": "uZJne0sSV4Kq"
   },
   "source": [
    "### 1.3. Thu thập hình ảnh"
   ]
  },
  {
   "cell_type": "code",
   "execution_count": 3,
   "metadata": {
    "colab": {},
    "colab_type": "code",
    "id": "IiYJxbp6V4Kq",
    "outputId": "2b6d5963-213f-4842-c61f-52d94c7b5b43"
   },
   "outputs": [
    {
     "name": "stdout",
     "output_type": "stream",
     "text": [
      "https://www.hcmus.edu.vn/images/2022/09/28/2.png\n",
      "https://www.hcmus.edu.vn/images/2022/09/28/1.png\n",
      "https://www.hcmus.edu.vn/images/2022/09/28/4.png\n",
      "https://www.hcmus.edu.vn/images/2022/09/29/7.png\n",
      "https://www.hcmus.edu.vn/images/2022/09/29/5.png\n",
      "https://www.hcmus.edu.vn/images/2022/09/28/3.png\n",
      "https://www.hcmus.edu.vn/images/2022/09/29/untitled-500-300-px-300-300-px-5.png\n",
      "https://www.hcmus.edu.vn/images/z3336142106615_c6035997d22a0dbe3efa0a089aec7933.jpg\n"
     ]
    }
   ],
   "source": [
    "# TODO:\n",
    "# Displays the source of all the images present in the root URL:\n",
    "# img_src=?\n",
    "img_src = [url for url in urls if ((\".png\" in url) or (\".jpg\" in url)) ]\n",
    "\n",
    "# Checking results?\n",
    "for i in img_src:\n",
    "    print(i)\n",
    "\n",
    "fp = open('images.txt', 'w')\n",
    "for i in img_src:\n",
    "    fp.write(i)\n",
    "    fp.write('\\n')\n",
    "fp.close()"
   ]
  },
  {
   "cell_type": "markdown",
   "metadata": {
    "id": "qNQ_Q-Ziben-"
   },
   "source": [
    "## Part 2. Thu thập và thể hiện dữ liệu web"
   ]
  },
  {
   "cell_type": "markdown",
   "metadata": {
    "id": "XeeBnKp2ben-"
   },
   "source": [
    "### 2.1. Import library"
   ]
  },
  {
   "cell_type": "code",
   "execution_count": 4,
   "metadata": {
    "id": "C0A3kkU9ben_"
   },
   "outputs": [],
   "source": [
    "import requests\n",
    "import re\n",
    "from bs4 import BeautifulSoup\n",
    "from bs4.element import Comment\n",
    "import string"
   ]
  },
  {
   "cell_type": "markdown",
   "metadata": {
    "id": "oW76m9ogben_"
   },
   "source": [
    "### 2.2. HTML Parser"
   ]
  },
  {
   "cell_type": "markdown",
   "metadata": {
    "id": "S4NQvzKSbeoA"
   },
   "source": [
    "\n",
    "Bộ phân tích cú pháp HTML (HTML Parser): nhận HTML code và trích xuất thông tin liên quan như tiêu đề của trang, đoạn văn trong trang, tiêu đề trong trang, liên kết, văn bản in đậm, v.v."
   ]
  },
  {
   "cell_type": "code",
   "execution_count": 5,
   "metadata": {
    "id": "TXZKNmHobeoA"
   },
   "outputs": [
    {
     "name": "stdout",
     "output_type": "stream",
     "text": [
      "Start tag: html\n",
      "Start tag: head\n",
      "Start tag: title\n",
      "Data  : Test\n",
      "End tag : title\n",
      "End tag : head\n"
     ]
    }
   ],
   "source": [
    "from html.parser import HTMLParser\n",
    "\n",
    "class MyHTMLParser(HTMLParser):\n",
    "    def handle_starttag(self, tag, attrs):\n",
    "        print(\"Start tag:\", tag)\n",
    "\n",
    "    def handle_endtag(self, tag):\n",
    "        print(\"End tag :\", tag)\n",
    "\n",
    "    def handle_data(self, data):\n",
    "        print(\"Data  :\", data)\n",
    "\n",
    "parser = MyHTMLParser()\n",
    "parser.feed('<html><head><title>Test</title></head>')"
   ]
  },
  {
   "cell_type": "markdown",
   "metadata": {
    "id": "2hBR89ZYbeoB"
   },
   "source": [
    "#### Loại bỏ các HTML tag không cần thiết bằng cách thiết lập filter"
   ]
  },
  {
   "cell_type": "code",
   "execution_count": 6,
   "metadata": {
    "id": "AUPtUSLIbeoB"
   },
   "outputs": [],
   "source": [
    "def text_filter(element):\n",
    "    if element.parent.name in ['style', 'title', 'script', 'head', '[document]', 'class', 'a', 'li']:\n",
    "        return False\n",
    "    elif isinstance(element, Comment):\n",
    "        '''Opinion mining?'''\n",
    "        return False\n",
    "    elif re.match(r\"[\\s\\r\\n]+\",str(element)): \n",
    "        '''space, return, endline'''\n",
    "        return False\n",
    "    return True"
   ]
  },
  {
   "cell_type": "markdown",
   "metadata": {
    "id": "xv_K3YSTbeoB"
   },
   "source": [
    "### 2.3 Thu thập nội dung trang Web"
   ]
  },
  {
   "cell_type": "markdown",
   "metadata": {
    "id": "z0TWTZy2beoC"
   },
   "source": [
    "#### Trong bài tập này ta thể hiện tài liệu (hay nội dung trang web) với cấu trúc đơn giản như sau: \n",
    "- Gọi $D$ là một tập tài liệu chứa *n* tài liệu: $D=\\left\\{d_1,d_2,...,d_n\\right\\}$.\n",
    "- Ta thể hiện tài liệu bằng một dictionary `data={}` với `data[word]=[[url_idx_1,url_idx_2,...],frequency]` với `url_index`$\\in{\\left[{1,n}\\right]}$\n",
    "\n",
    "VD: `data['at']=[[1,2], 5]`\n",
    "Từ `at` xuất hiện trong đường dẫn có index `1` và `2` tổng số lần xuất hiện là 5."
   ]
  },
  {
   "cell_type": "markdown",
   "metadata": {
    "heading_collapsed": true,
    "id": "5dmRymoMbeoC"
   },
   "source": [
    "#### Bước 1: liệt kê các từ xuất hiện trong trang web:"
   ]
  },
  {
   "cell_type": "code",
   "execution_count": 7,
   "metadata": {
    "hidden": true
   },
   "outputs": [
    {
     "name": "stdout",
     "output_type": "stream",
     "text": [
      "!\"#$%&'()*+,-./:;<=>?@[\\]^_`{|}~\n"
     ]
    }
   ],
   "source": [
    "print(string.punctuation)"
   ]
  },
  {
   "cell_type": "code",
   "execution_count": 8,
   "metadata": {
    "hidden": true,
    "id": "XNsOj9HDbeoC",
    "scrolled": false
   },
   "outputs": [
    {
     "name": "stdout",
     "output_type": "stream",
     "text": [
      "['Toggle', 'sidebar', 'Search', 'Create', 'account', 'Log', 'in', 'Personal', 'tools', 'Create', 'account', 'Log', 'in', 'learn', 'more', 'Contributions', 'Talk', 'Navigation', 'Main', 'page', 'Contents', 'Current', 'events', 'Random', 'article', 'About', 'Wikipedia', 'Contact', 'us', 'Donate', 'Contribute', 'Help', 'Learn', 'to', 'edit', 'Community', 'portal', 'Recent', 'changes', 'Upload', 'file', 'Tools', 'What', 'links', 'here', 'Related', 'changes', 'Upload', 'file', 'Special', 'pages', 'Permanent', 'link', 'Page', 'information', 'Cite', 'this', 'page', 'Wikidata', 'item', 'Print', 'export', 'Download', 'as', 'PDF', 'Printable', 'version', 'In', 'other', 'projects', 'Wikimedia', 'Commons', 'Languages', 'Language', 'links', 'are', 'at', 'the', 'top', 'of', 'the', 'page', 'across', 'from', 'the', 'title', 'Contents', 'move', 'to', 'sidebar', 'hide', 'Top', '1', 'Etymology', '2', 'Background', '3', 'Process', '3', '1', 'Pre', 'processing', '3', '2', 'Data', 'mining', '3', '3', 'Results', 'validation', '4', 'Research', '5', 'Standards', '6', 'Notable', 'uses', '7', 'Privacy', 'concerns', 'and', 'ethics', '7', '1', 'Situation', 'in', 'Europe', '7', '2', 'Situation', 'in', 'the', 'United', 'States', '8', 'Copyright', 'law', '8', '1', 'Situation', 'in', 'Europe', '8', '2', 'Situation', 'in', 'the', 'United', 'States', '9', 'Software', '9', '1', 'Free', 'open', 'source', 'data', 'mining', 'software', 'and', 'applications', '9', '2', 'Proprietary', 'data', 'mining', 'software', 'and', 'applications', '10', 'See', 'also', '11', 'References', '12', 'Further', 'reading', '13', 'External', 'links', 'Toggle', 'the', 'table', 'of', 'contents', 'Data', 'mining', '59', 'languages', 'العربية', 'অসমীয়া', 'Azərbaycanca', 'বাংলা', 'Български', 'Català', 'Čeština', 'Cymraeg', 'Dansk', 'Deutsch', 'Eesti', 'Ελληνικά', 'Español', 'Euskara', 'فارسی', 'Français', '한국어', 'Հայերեն', 'हिन्दी', 'Hrvatski', 'Bahasa', 'Indonesia', 'Italiano', 'עברית', 'ಕನ್ನಡ', 'Latviešu', 'Magyar', 'Македонски', 'മലയാളം', 'मराठी', 'Bahasa', 'Melayu', 'Монгол', 'မြန်မာဘာသာ', 'Nederlands', '日本語', 'Norsk', 'bokmål', 'Norsk', 'nynorsk', 'Polski', 'Português', 'Română', 'Русский', 'Shqip', 'Simple', 'English', 'Slovenčina', 'Slovenščina', 'Српски', 'srpski', 'Srpskohrvatski', 'српскохрватски', 'Sunda', 'Suomi', 'Svenska', 'தமிழ்', 'ไทย', 'Тоҷикӣ', 'Türkçe', 'Українська', 'Tiếng', 'Việt', '吴语', 'ייִדיש', '粵語', '中文', 'Article', 'Talk', 'English', 'Read', 'Edit', 'View', 'history', 'More', 'Read', 'Edit', 'View', 'history', 'From', 'Wikipedia', 'the', 'free', 'encyclopedia', 'Redirected', 'from', 'Process', 'of', 'extracting', 'and', 'discovering', 'patterns', 'in', 'large', 'data', 'sets', 'Web', 'mining', 'redirects', 'here', 'For', 'web', 'browser', 'based', 'cryptocurrency', 'mining', 'see', 'Part', 'of', 'a', 'series', 'on', 'and', 'Paradigms', 'Problems', 'k', 'k', 'k', 'Learning', 'with', 'humans', 'Model', 'diagnostics', 'Theory', 'Machine', 'learning', 'venues', 'Related', 'articles', 'v', 't', 'e', 'Data', 'mining', 'and', 'and', 'The', 'term', 'data', 'mining', 'is', 'a', 'mining', 'analysis', 'and', 'statistics', 'as', 'well', 'as', 'any', 'application', 'of', 'including', 'The', 'book', 'Data', 'mining', 'Practical', 'machine', 'learning', 'tools', 'and', 'techniques', 'with', 'Practical', 'machine', 'learning', 'and', 'the', 'term', 'data', 'mining', 'large', 'scale', '—or', 'when', 'referring', 'to', 'actual', 'methods', 'artificial', 'intelligence', 'machine', 'learning', '—are', 'more', 'appropriate', '\\n', 'The', 'actual', 'data', 'mining', 'task', 'is', 'the', 'semi', 'unusual', 'records', 'and', 'This', 'usually', 'involves', 'using', 'database', 'techniques', 'such', 'as', 'These', 'patterns', 'can', 'then', 'be', 'seen', 'as', 'a', 'kind', 'of', 'summary', 'of', 'the', 'input', 'data', 'and', 'may', 'be', 'used', 'in', 'further', 'analysis', 'or', 'for', 'example', 'in', 'machine', 'learning', 'and', 'For', 'example', 'the', 'data', 'mining', 'step', 'might', 'identify', 'multiple', 'groups', 'in', 'the', 'data', 'which', 'can', 'then', 'be', 'used', 'to', 'obtain', 'more', 'accurate', 'prediction', 'results', 'by', 'a', 'Neither', 'the', 'data', 'collection', 'data', 'preparation', 'nor', 'result', 'interpretation', 'and', 'reporting', 'is', 'part', 'of', 'the', 'data', 'mining', 'step', 'although', 'they', 'do', 'belong', 'to', 'the', 'overall', 'KDD', 'process', 'as', 'additional', 'steps', '\\n', 'The', 'difference', 'between', 'regardless', 'of', 'the', 'amount', 'of', 'data', 'In', 'contrast', 'data', 'mining', 'uses', 'machine', 'learning', 'and', 'statistical', 'models', 'to', 'uncover', 'clandestine', 'or', 'hidden', 'patterns', 'in', 'a', 'large', 'volume', 'of', 'data', 'The', 'related', 'terms', 'data', 'fishing', 'and', 'Etymology', 'In', 'the', '1960s', 'statisticians', 'and', 'economists', 'used', 'terms', 'like', 'data', 'fishing', 'data', 'dredging', 'The', 'term', 'data', 'mining', 'based', 'company', 'to', 'pitch', 'their', 'Database', 'Mining', 'Workstation', 'data', 'mining', 'Other', 'terms', 'used', 'include', 'data', 'archaeology', 'information', 'harvesting', 'information', 'discovery', 'etc', 'data', 'mining', 'knowledge', 'discovery', 'Background', 'The', 'manual', 'extraction', 'of', 'patterns', 'from', 'Process', 'The', 'knowledge', 'discovery', 'in', 'databases', 'KDD', 'process', 'Data', 'mining', 'It', 'exists', 'however', 'in', 'many', 'variations', 'on', 'this', 'theme', 'such', 'as', 'the', 'or', 'a', 'simplified', 'process', 'such', 'as', '1', 'Pre', 'processing', '2', 'Data', 'Mining', 'and', '3', 'Results', 'Validation', '\\n', 'Polls', 'conducted', 'in', '2002', '2004', '2007', 'and', '2014', 'show', 'that', 'the', 'CRISP', 'DM', 'methodology', 'is', 'the', 'leading', 'methodology', 'used', 'by', 'data', 'miners', 'However', '3–4', 'times', 'as', 'many', 'people', 'reported', 'using', 'CRISP', 'DM', 'Several', 'teams', 'of', 'researchers', 'have', 'published', 'reviews', 'of', 'data', 'mining', 'process', 'models', 'Pre', 'processing', 'Before', 'data', 'mining', 'algorithms', 'can', 'be', 'used', 'a', 'target', 'data', 'set', 'must', 'be', 'assembled', 'As', 'data', 'mining', 'can', 'only', 'uncover', 'patterns', 'actually', 'present', 'in', 'the', 'data', 'the', 'target', 'data', 'set', 'must', 'be', 'large', 'enough', 'to', 'contain', 'these', 'patterns', 'while', 'remaining', 'concise', 'enough', 'to', 'be', 'mined', 'within', 'an', 'acceptable', 'time', 'limit', 'A', 'common', 'source', 'for', 'data', 'is', 'a', 'Pre', 'processing', 'is', 'essential', 'to', 'analyze', 'the', '\\n', 'Data', 'mining', 'Data', 'mining', 'involves', 'six', 'common', 'classes', 'of', 'tasks', 'Results', 'validation', 'An', 'example', 'of', 'data', 'produced', 'by', 'Data', 'mining', 'can', 'unintentionally', 'be', 'misused', 'producing', 'results', 'that', 'appear', 'to', 'be', 'significant', 'but', 'which', 'do', 'not', 'actually', 'predict', 'future', 'behavior', 'and', 'cannot', 'be', 'A', 'simple', 'version', 'of', 'this', 'problem', 'in', 'but', 'the', 'same', 'problem', 'can', 'arise', 'at', 'different', 'phases', 'of', 'the', 'process', 'and', 'thus', 'a', 'train', 'test', 'split—when', 'applicable', 'at', 'all—may', 'not', 'be', 'sufficient', 'to', 'prevent', 'this', 'from', 'happening', 'The', 'final', 'step', 'of', 'knowledge', 'discovery', 'from', 'data', 'is', 'to', 'verify', 'that', 'the', 'patterns', 'produced', 'by', 'the', 'data', 'mining', 'algorithms', 'occur', 'in', 'the', 'wider', 'data', 'set', 'Not', 'all', 'patterns', 'found', 'by', 'the', 'algorithms', 'are', 'necessarily', 'valid', 'It', 'is', 'common', 'for', 'data', 'mining', 'algorithms', 'to', 'find', 'patterns', 'in', 'the', 'training', 'set', 'which', 'are', 'not', 'present', 'in', 'the', 'general', 'data', 'set', 'This', 'is', 'called', 'To', 'overcome', 'this', 'the', 'evaluation', 'uses', 'a', 'not', '\\n', 'If', 'the', 'learned', 'patterns', 'do', 'not', 'meet', 'the', 'desired', 'standards', 'it', 'is', 'necessary', 'to', 're', 'evaluate', 'and', 'change', 'the', 'pre', 'processing', 'and', 'data', 'mining', 'steps', 'If', 'the', 'learned', 'patterns', 'do', 'meet', 'the', 'desired', 'standards', 'then', 'the', 'final', 'step', 'is', 'to', 'interpret', 'the', 'learned', 'patterns', 'and', 'turn', 'them', 'into', 'knowledge', '\\n', 'Research', 'The', 'premier', 'professional', 'body', 'in', 'the', 'field', 'is', 'the', 's', 'ACM', 'Special', 'Interest', 'Group', 'SIG', 'on', 'Knowledge', 'Discovery', 'and', 'Data', 'Mining', 'Computer', 'science', 'conferences', 'on', 'data', 'mining', 'include', '\\n', 'Data', 'mining', 'topics', 'are', 'also', 'present', 'in', 'many', '\\n', 'Standards', 'There', 'have', 'been', 'some', 'efforts', 'to', 'define', 'standards', 'for', 'the', 'data', 'mining', 'process', 'for', 'example', 'the', '1999', 'European', 'For', 'exchanging', 'the', 'extracted', 'models—in', 'particular', 'for', 'use', 'in', '—the', 'key', 'standard', 'is', 'the', 'based', 'language', 'developed', 'by', 'the', 'Data', 'Mining', 'Group', 'DMG', 'and', 'supported', 'as', 'exchange', 'format', 'by', 'many', 'data', 'mining', 'applications', 'As', 'the', 'name', 'suggests', 'it', 'only', 'covers', 'prediction', 'models', 'a', 'particular', 'data', 'mining', 'task', 'of', 'high', 'importance', 'to', 'business', 'applications', 'However', 'extensions', 'to', 'cover', 'for', 'example', 'Notable', 'uses', 'Main', 'article', 'See', 'also', 'Data', 'mining', 'is', 'used', 'wherever', 'there', 'is', 'digital', 'data', 'available', 'today', 'Notable', 'Privacy', 'concerns', 'and', 'ethics', 'While', 'the', 'term', 'data', 'mining', 'itself', 'may', 'have', 'no', 'ethical', 'implications', 'it', 'is', 'often', 'associated', 'with', 'the', 'mining', 'of', 'information', 'in', 'relation', 'to', 'The', 'ways', 'in', 'which', 'data', 'mining', 'can', 'be', 'used', 'can', 'in', 'some', 'cases', 'and', 'contexts', 'raise', 'questions', 'regarding', 'legality', 'and', 'has', 'raised', 'privacy', 'concerns', 'Data', 'mining', 'requires', 'data', 'preparation', 'which', 'uncovers', 'information', 'or', 'patterns', 'which', 'compromise', 'per', 'se', 'but', 'a', 'result', 'of', 'the', 'preparation', 'of', 'data', 'before—and', 'for', 'the', 'purposes', 'of—the', 'analysis', 'The', 'threat', 'to', 'an', 'individual', 's', 'privacy', 'comes', 'into', 'play', 'when', 'the', 'data', 'once', 'compiled', 'cause', 'the', 'data', 'miner', 'or', 'anyone', 'who', 'has', 'access', 'to', 'the', 'newly', 'compiled', 'data', 'set', 'to', 'be', 'able', 'to', 'identify', 'specific', 'individuals', 'especially', 'when', 'the', 'data', 'were', 'originally', 'anonymous', 'It', 'is', 'recommended', 'according', 'to', 'whom', 'before', 'Data', 'may', 'also', 'be', 'modified', 'so', 'as', 'to', 'become', 'data', 'sets', 'can', 'potentially', 'contain', 'enough', 'information', 'to', 'allow', 'identification', 'of', 'individuals', 'as', 'occurred', 'when', 'journalists', 'were', 'able', 'to', 'find', 'several', 'individuals', 'based', 'on', 'a', 'set', 'of', 'search', 'histories', 'that', 'were', 'inadvertently', 'released', 'by', 'AOL', 'The', 'inadvertent', 'revelation', 'of', 'the', 'patrons', 'of', 'Walgreens', 'filed', 'a', 'lawsuit', 'against', 'the', 'company', 'in', '2011', 'for', 'selling\\nprescription', 'information', 'to', 'data', 'mining', 'companies', 'who', 'in', 'turn', 'provided', 'the', 'data\\nto', 'pharmaceutical', 'companies', 'Situation', 'in', 'Europe', 'developed', 'between', '1998', 'and', '2000', 'currently', 'effectively', 'expose', 'European', 'users', 'to', 'privacy', 'exploitation', 'by', 'U', 'S', 'companies', 'As', 'a', 'consequence', 'of', 's', 'there', 'has', 'been', 'increased', 'discussion', 'to', 'revoke', 'this', 'agreement', 'as', 'in', 'particular', 'the', 'data', 'will', 'be', 'fully', 'exposed', 'to', 'the', 'and', 'attempts', 'to', 'reach', 'an', 'agreement', 'with', 'the', 'United', 'States', 'have', 'failed', 'In', 'the', 'United', 'Kingdom', 'in', 'particular', 'there', 'have', 'been', 'cases', 'of', 'corporations', 'using', 'data', 'mining', 'as', 'a', 'way', 'to', 'target', 'certain', 'groups', 'of', 'customers', 'forcing', 'them', 'to', 'pay', 'unfairly', 'high', 'prices', 'These', 'groups', 'tend', 'to', 'be', 'people', 'of', 'lower', 'socio', 'economic', 'status', 'who', 'are', 'not', 'savvy', 'to', 'the', 'ways', 'they', 'can', 'be', 'exploited', 'in', 'digital', 'market', 'places', 'Situation', 'in', 'the', 'United', 'States', 'In', 'the', 'United', 'States', 'privacy', 'concerns', 'have', 'been', 'addressed', 'by', 'the', 'Biotech', 'Business', 'Week', 'i', 'n', 'practice', 'HIPAA', 'may', 'not', 'offer', 'any', 'greater', 'protection', 'than', 'the', 'longstanding', 'regulations', 'in', 'the', 'research', 'arena', 'says', 'the', 'AAHC', 'More', 'importantly', 'the', 'rule', 's', 'goal', 'of', 'protection', 'through', 'informed', 'consent', 'is', 'approach', 'a', 'level', 'of', 'incomprehensibility', 'to', 'average', 'individuals', 'U', 'S', 'information', 'privacy', 'legislation', 'such', 'as', 'HIPAA', 'and', 'the', 'Copyright', 'law', 'Situation', 'in', 'Europe', 'Under', 'the', 'mining', 'of', 'in', 'copyright', 'works', 'such', 'as', 'by', 'without', 'the', 'permission', 'of', 'the', 'copyright', 'owner', 'is', 'not', 'legal', 'Where', 'a', 'database', 'is', 'pure', 'data', 'in', 'Europe', 'it', 'may', 'be', 'that', 'there', 'is', 'no', 'copyright—but', 'database', 'rights', 'may', 'exist', 'so', 'data', 'mining', 'becomes', 'subject', 'to', 'On', 'the', 'recommendation', 'of', 'the', 'this', 'led', 'to', 'the', 'UK', 'government', 'to', 'amend', 'its', 'copyright', 'law', 'in', '2014', 'to', 'allow', 'content', 'mining', 'as', 'a', 'The', 'Situation', 'in', 'the', 'United', 'States', 'and', 'in', 'particular', 'its', 'provision', 'for', 'upholds', 'the', 'legality', 'of', 'content', 'mining', 'in', 'America', 'and', 'other', 'fair', 'use', 'countries', 'such', 'as', 'Israel', 'Taiwan', 'and', 'South', 'Korea', 'As', 'content', 'mining', 'is', 'transformative', 'that', 'is', 'it', 'does', 'not', 'supplant', 'the', 'original', 'work', 'it', 'is', 'viewed', 'as', 'being', 'lawful', 'under', 'fair', 'use', 'For', 'example', 'as', 'part', 'of', 'the', 'Software', 'See', 'also', 'Free', 'open', 'source', 'data', 'mining', 'software', 'and', 'applications', 'The', 'following', 'applications', 'are', 'available', 'under', 'free', 'open', 'source', 'licenses', 'Public', 'access', 'to', 'application', 'source', 'code', 'is', 'also', 'available', '\\n', 'Proprietary', 'data', 'mining', 'software', 'and', 'applications', 'The', 'following', 'applications', 'are', 'available', 'under', 'proprietary', 'licenses', '\\n', 'See', 'also', 'Methods', 'Application', 'domains', 'Application', 'examples', 'Main', 'article', 'See', 'also', 'Related', 'topics', 'For', 'more', 'information', 'about', 'extracting', 'information', 'out', 'of', 'data', 'as', 'opposed', 'to', 'analyzing', 'Other', 'resources', 'References', 'a', 'b', 'c', '2006', '04', '30', 'Retrieved', '2014', '01', '27', 'Clifton', 'Christopher', '2010', 'Retrieved', '2010', '12', '09', 'Archived', 'from', 'Retrieved', '2012', '08', '07', 'Kamber', 'Micheline', 'Pei', 'Jian', '2011', 'Data', 'Mining', 'Concepts', 'and', 'Techniques', '978', '0', '12', '381479', '1', 'a', 'b', 'c', 'Smyth', 'Padhraic', '1996', 'PDF', 'PDF', 'Retrieved', '17', 'December', 'Kamber', 'Micheline', '2001', 'Data', 'mining', 'concepts', 'and', 'techniques', 'p', '\\xa05', '978', '1', '55860', '489', '6', 'Thus', 'data', 'mining', 'should', 'have', 'been', 'more', 'appropriately', 'named', 'knowledge', 'mining', 'from', 'data', 'which', 'is', 'unfortunately', 'somewhat', 'long', 'Frank', 'Eibe', 'Hall', 'Mark', 'A', '2011', 'Data', 'Mining', 'Practical', 'Machine', 'Learning', 'Tools', 'and', 'Techniques', '978', '0', '12', '374856', '0', 'Bouckaert', 'Remco', 'R', 'Frank', 'Eibe', 'Hall', 'Mark', 'A', 'Holmes', 'Geoffrey', 'Pfahringer', 'Bernhard', 'Reutemann', 'Peter', 'Journal', 'of', 'Machine', 'Learning', 'Research', '11', '2533–2541', 'the', 'original', 'title', 'Practical', 'machine', 'learning', 'was', 'changed\\xa0', 'The', 'term', 'data', 'mining', 'was', 'added', 'primarily', 'for', 'marketing', 'reasons', 'Olson', 'D', 'L', '2007', 'Data', 'mining', 'in', 'business', 'services', 'Service', 'Business', '1', '3', '181–193', 'Lovell', 'Michael', 'C', '1983', 'Data', 'Mining', 'The', 'Review', 'of', 'Economics', 'and', 'Statistics', '65', 'Charemza', 'Wojciech', 'W', 'Deadman', 'Derek', 'F', '1992', 'Data', 'Mining', 'New', 'Directions', 'in', 'Econometric', 'Practice', 'Aldershot', 'Edward', 'Elgar', 'pp', '\\xa014–31', '1', '85278', '461', 'X', 'Mena', 'Jesús', '2011', 'Machine', 'Learning', 'Forensics', 'for', 'Law', 'Enforcement', 'Security', 'and', 'Intelligence', 'Boca', 'Raton', 'FL', 'CRC', 'Press', 'Taylor', 'Francis', 'Group', '978', '1', '4398', '6069', '4', 'Parker', 'Gary', '2011', 'Introduction', 'to', 'Data', 'Mining', 'KD', 'Nuggets', 'Retrieved', '30', 'August', 'Coenen', 'Frans', '2011', '02', '07', 'The', 'Knowledge', 'Engineering', 'Review', '26', 'Kantardzic', 'Mehmed', '2003', 'Data', 'Mining', 'Concepts', 'Models', 'Methods', 'and', 'Algorithms', 'John', 'Wiley', 'Sons', '978', '0', '471', '22852', '3', 'KDnuggets', 'Methodology', 'Poll', 'KDnuggets', 'Methodology', 'Poll', 'KDnuggets', 'Methodology', 'Poll', 'KDnuggets', 'Methodology', 'Poll', 'Lukasz', 'Kurgan', 'and', 'Petr', 'Musilek', 'The', 'Knowledge', 'Engineering', 'Review', 'Volume', '21', 'Issue', '1', 'March', '2006', 'pp\\xa01–24', 'Cambridge', 'University', 'Press', 'New', 'York', 'Azevedo', 'A', 'and', 'Santos', 'M', 'F', 'In', 'Proceedings', 'of', 'the', 'IADIS', 'European', 'Conference', 'on', 'Data', 'Mining', '2008', 'pp\\xa0182–185', 'Hawkins', 'Douglas', 'M', '2004', 'The', 'problem', 'of', 'overfitting', 'Journal', 'of', 'Chemical', 'Information', 'and', 'Computer', 'Sciences', '44', 'International', 'Conferences', 'on', 'Knowledge', 'Discovery', 'and', 'Data', 'Mining', 'ACM', 'New', 'York', 'ACM', 'New', 'York', 'Günnemann', 'Stephan', 'Kremer', 'Hardy', 'Seidl', 'Thomas', '2011', 'An', 'extension', 'of', 'the', 'PMML', 'standard', 'to', 'subspace', 'clustering', 'models', 'Proceedings', 'of', 'the', '2011', 'workshop', 'on', 'Predictive', 'markup', 'language', 'modeling', 'p', '\\xa048', '978', '1', '4503', '0837', '3', 'Seltzer', 'William', '2005', 'PDF', 'ASA', 'Section', 'on', 'Government', 'Statistics', 'American', 'Statistical', 'Association', 'PDF', 'Pitts', 'Chip', '15', 'March', '2007', 'Washington', 'Spectator', 'Archived', 'from', 'Taipale', 'Kim', 'A', '15', 'December', '2003', 'Columbia', 'Science', 'and', 'Technology', 'Law', 'Review', '5', 'Archived', 'from', 'Retrieved', '21', 'April', 'Resig', 'John', 'PDF', 'PDF', 'Retrieved', '16', 'March', 'a', 'b', 'c', 'Think', 'Before', 'You', 'Dig', 'Privacy', 'Implications', 'of', 'Data', 'Mining', 'Aggregation', 'NASCIO', 'Research', 'Brief', 'September', '2004', 'Ohm', 'Paul', 'Harvard', 'Business', 'Review', 'AOL', 'search', 'data', 'identified', 'individuals', 'SecurityFocus', 'August', '2006', 'Kshetri', 'Nir', '2014', 'PDF', 'Telecommunications', 'Policy', '38', 'Weiss', 'Martin', 'A', 'Archick', 'Kristin', '19', 'May', '2016', 'Washington', 'D', 'C', 'Congressional', 'Research', 'Service', 'p', '\\xa06', 'R44257', 'Archived', 'from', 'PDF', 'Retrieved', '9', 'April', 'On', 'October', '6', '2015', 'the', 'Parker', 'George', '2018', '09', '30', 'Financial', 'Times', 'Archived', 'from', 'Retrieved', '2022', '12', '04', 'Biotech', 'Business', 'Week', 'Editors', 'June', '30', '2008', 'BIOMEDICINE', 'HIPAA', 'Privacy', 'Rule', 'Impedes', 'Biomedical', 'Research', 'Biotech', 'Business', 'Week', 'retrieved', '17', 'November', '2009', 'from', 'LexisNexis', 'Academic', 'Out', 'Law', 'com', 'European', 'Commission', 'Retrieved', '14', 'November', 'Association', 'of', 'European', 'Research', 'Libraries', 'Archived', 'from', 'Retrieved', '14', 'November', 'Lexology', 'com', 'Antonelli', 'Law', 'Ltd', '19', 'November', '2013', 'Retrieved', '14', 'November', 'Further', 'reading', 'Discovering', 'Data', 'Mining', 'From', 'Concept', 'to', 'Implementation', 'Knowledge', 'and', 'data', 'Engineering', 'IEEE', 'Transactions', 'The', 'Text', 'Mining', 'Handbook', 'High', 'Performance', 'Data', 'Mining', 'Scaling', 'Algorithms', 'Applications', 'and', 'Systems', 'Data', 'mining', 'concepts', 'and', 'techniques', 'The', 'Elements', 'of', 'Statistical', 'Learning', 'Data', 'Mining', 'Inference', 'and', 'Prediction', 'Web', 'Data', 'Mining', 'Exploring', 'Hyperlinks', 'Contents', 'and', 'Usage', 'Data', 'Murphy', 'Chris', '16', 'May', '2011', 'Is', 'Data', 'Mining', 'Free', 'Speech', '12', 'Handbook', 'of', 'Statistical', 'Analysis', 'Data', 'Mining', 'Applications', 'Information', 'Science', 'Reference', 'Introduction', 'to', 'Data', 'Mining', 'Pattern', 'Recognition', 'Predictive', 'Data', 'Mining', 'Frank', 'Eibe', 'Hall', 'Mark', 'A', '30', 'January', '2011', 'Data', 'Mining', 'Practical', 'Machine', 'Learning', 'Tools', 'and', 'Techniques', '978', '0', '12', '374856', '0', 'The', 'Handbook', 'of', 'Data', 'Mining', 'External', 'links', 'Wikimedia', 'Commons', 'has', 'media', 'related', 'to', 'v', 't', 'e', 'v', 't', 'e', 'Creating', 'a', 'data', 'warehouse', 'Concepts', 'Variants', 'Elements', 'Fact', 'Dimension', 'Filling', 'Using', 'a', 'data', 'warehouse', 'Concepts', 'Languages', 'Tools', 'Related', 'People', 'Products', 'v', 't', 'e', 'Note', 'This', 'template', 'roughly', 'follows', 'the', '2012', 'Computer', 'systems', 'organization', 'Software', 'organization', 'Mathematics', 'of', 'computing', 'Applied', 'computing', 'National', 'Retrieved', 'from', 'Hidden', 'categories']\n"
     ]
    }
   ],
   "source": [
    "def wordList(url):\n",
    "    r = requests.get(url)\n",
    "    soup = BeautifulSoup(r.content, \"html.parser\")\n",
    "    text = soup.findAll(text=True)\n",
    "    filtered_text = list(filter(text_filter, text)) # list của các chuỗi\n",
    "    word_list = []\n",
    "    for i in range(len(filtered_text)):\n",
    "        for remove_character in string.punctuation:  \n",
    "            filtered_text[i] = filtered_text[i].replace(remove_character, \" \")\n",
    "        filtered_list = filtered_text[i].split(\" \")\n",
    "        word_list.extend(filtered_list)\n",
    "    # TODO:\n",
    "    # Với mỗi chuỗi trong filtered_text:\n",
    "    #   Thay thế các dấu câu thành khoảng trắng (gợi ý: danh sách các dấu câu: string.punctuation; thay thế: .replace(...))\n",
    "    #   Tách chuỗi bởi khoảng trắng (.split(...))\n",
    "    #   Thêm các từ vừa được tách ra vào word_list\n",
    "    word_list = [i for i in word_list if i!='']\n",
    "    return word_list\n",
    "  \n",
    "# Test\n",
    "print(wordList('https://en.wikipedia.org/wiki/Web_mining'))"
   ]
  },
  {
   "cell_type": "markdown",
   "metadata": {
    "id": "SzKscEdtbeoC"
   },
   "source": [
    "#### Bước 2: Tính tần suất xuất hiện của từ trong 1 trang web, lưu trữ dữ liệu vào data:"
   ]
  },
  {
   "cell_type": "code",
   "execution_count": 9,
   "metadata": {
    "id": "HO-qUDncbeoD",
    "scrolled": false
   },
   "outputs": [
    {
     "data": {
      "text/plain": [
       "[[1], 21]"
      ]
     },
     "execution_count": 9,
     "metadata": {},
     "output_type": "execute_result"
    }
   ],
   "source": [
    "def read_url(url, url_idx, data):\n",
    "    word_list = wordList(url)\n",
    "    for word in word_list:\n",
    "        if (word not in data.keys()):\n",
    "            data[word] = [[url_idx], 1]\n",
    "        else:\n",
    "            if (url_idx not in data[word][0]):\n",
    "                data[word][0].append(url_idx)\n",
    "            data[word][1] = data[word][1] + 1\n",
    "    # TODO\n",
    "    # Với mỗi từ w trong word_list:\n",
    "    #   Nếu w chưa có trong data thì khởi tạo data[w] = [[url_idx], 1]\n",
    "    #   Ngược lại thì thêm url_idx vào data[w][0] (nếu chưa có) và tăng data[w][1] lên 1 đơn vị\n",
    "    \n",
    "\n",
    "# Test\n",
    "test_data = {}\n",
    "read_url('https://en.wikipedia.org/wiki/Web_mining', 1, test_data)\n",
    "test_data['as']"
   ]
  },
  {
   "cell_type": "markdown",
   "metadata": {
    "id": "R-paYxxpbeoD"
   },
   "source": [
    "#### Bước 3: Chạy chương trình lưu kết quả vào file output.txt"
   ]
  },
  {
   "cell_type": "code",
   "execution_count": 10,
   "metadata": {
    "id": "zRNXLKBgbeoD"
   },
   "outputs": [],
   "source": [
    "data = {}\n",
    "read_url('https://en.wikipedia.org/wiki/Web_mining', 1, data)\n",
    "read_url('https://en.wikipedia.org/wiki/Data_mining', 2, data)\n",
    "\n",
    "sorted_keys = sorted(data.keys())\n",
    "\n",
    "with open(\"output.txt\", \"w\", encoding=\"utf-8\") as f:\n",
    "    output_line = \"Word\".ljust(20) + \"Frequency\".ljust(15) + \"URL_idx\".ljust(15) + \"\\n\"\n",
    "    f.writelines(output_line)\n",
    "    f.writelines('---------------------------------------------------------------------\\n\\n')\n",
    "    for key in sorted_keys:\n",
    "        output_string = str(key).ljust(20) + str(data[key][1]).ljust(15) + str(data[key][0]).ljust(15) + \"\\n\"\n",
    "        f.writelines(output_string)\n"
   ]
  },
  {
   "cell_type": "code",
   "execution_count": 17,
   "metadata": {
    "id": "2l3CRsQ5beoE",
    "scrolled": false
   },
   "outputs": [
    {
     "name": "stdout",
     "output_type": "stream",
     "text": [
      "{'Toggle': [[1, 2], 4], 'sidebar': [[1, 2], 4], 'Search': [[1, 2], 2], 'Create': [[1, 2], 4], 'account': [[1, 2], 4], 'Log': [[1, 2], 4], 'in': [[1, 2], 84], 'Personal': [[1, 2], 2], 'tools': [[1, 2], 4], 'learn': [[1, 2], 2], 'more': [[1, 2], 10], 'Contributions': [[1, 2], 2], 'Talk': [[1, 2], 4], 'Navigation': [[1, 2], 2], 'Main': [[1, 2], 6], 'page': [[1, 2], 6], 'Contents': [[1, 2], 6], 'Current': [[1, 2], 2], 'events': [[1, 2], 2], 'Random': [[1, 2], 2], 'article': [[1, 2], 6], 'About': [[1, 2], 2], 'Wikipedia': [[1, 2], 4], 'Contact': [[1, 2], 2], 'us': [[1, 2], 2], 'Donate': [[1, 2], 2], 'Contribute': [[1, 2], 2], 'Help': [[1, 2], 2], 'Learn': [[1, 2], 2], 'to': [[1, 2], 98], 'edit': [[1, 2], 2], 'Community': [[1, 2], 2], 'portal': [[1, 2], 2], 'Recent': [[1, 2], 2], 'changes': [[1, 2], 4], 'Upload': [[1, 2], 4], 'file': [[1, 2], 4], 'Tools': [[1, 2], 8], 'What': [[1, 2], 2], 'links': [[1, 2], 8], 'here': [[1, 2], 4], 'Related': [[1, 2], 8], 'Special': [[1, 2], 4], 'pages': [[1, 2], 2], 'Permanent': [[1, 2], 2], 'link': [[1, 2], 2], 'Page': [[1, 2], 2], 'information': [[1, 2], 20], 'Cite': [[1, 2], 2], 'this': [[1, 2], 14], 'Wikidata': [[1, 2], 2], 'item': [[1, 2], 2], 'Print': [[1, 2], 2], 'export': [[1, 2], 2], 'Download': [[1, 2], 2], 'as': [[1, 2], 42], 'PDF': [[1, 2], 18], 'Printable': [[1, 2], 2], 'version': [[1, 2], 4], 'In': [[1, 2], 12], 'other': [[1, 2], 4], 'projects': [[1, 2], 2], 'Wikimedia': [[1, 2], 4], 'Commons': [[1, 2], 4], 'Languages': [[1, 2], 4], 'Language': [[1, 2], 2], 'are': [[1, 2], 14], 'at': [[1, 2], 6], 'the': [[1, 2], 174], 'top': [[1, 2], 2], 'of': [[1, 2], 104], 'across': [[1, 2], 2], 'from': [[1, 2], 27], 'title': [[1, 2], 4], 'move': [[1, 2], 2], 'hide': [[1, 2], 2], 'Top': [[1, 2], 2], '1': [[1, 2], 26], 'Etymology': [[1, 2], 4], '2': [[1, 2], 12], 'Background': [[1, 2], 4], '3': [[1, 2], 18], 'Process': [[1, 2], 6], 'Pre': [[1, 2], 8], 'processing': [[1, 2], 10], 'Data': [[1, 2], 76], 'mining': [[1, 2], 106], 'Results': [[1, 2], 6], 'validation': [[1, 2], 4], '4': [[1, 2], 4], 'Research': [[1, 2], 14], '5': [[1, 2], 4], 'Standards': [[1, 2], 4], '6': [[1, 2], 6], 'Notable': [[1, 2], 6], 'uses': [[1, 2], 8], '7': [[1, 2], 6], 'Privacy': [[1, 2], 8], 'concerns': [[1, 2], 8], 'and': [[1, 2], 108], 'ethics': [[1, 2], 4], 'Situation': [[1, 2], 16], 'Europe': [[1, 2], 10], 'United': [[1, 2], 14], 'States': [[1, 2], 12], '8': [[1, 2], 6], 'Copyright': [[1, 2], 4], 'law': [[1, 2], 6], '9': [[1, 2], 8], 'Software': [[1, 2], 6], 'Free': [[1, 2], 6], 'open': [[1, 2], 6], 'source': [[1, 2], 10], 'data': [[1, 2], 132], 'software': [[1, 2], 8], 'applications': [[1, 2], 16], 'Proprietary': [[1, 2], 4], '10': [[1, 2], 2], 'See': [[1, 2], 10], 'also': [[1, 2], 16], '11': [[1, 2], 4], 'References': [[1, 2], 4], '12': [[1, 2], 14], 'Further': [[1, 2], 4], 'reading': [[1, 2], 4], '13': [[1, 2], 2], 'External': [[1, 2], 4], 'table': [[1, 2], 2], 'contents': [[1, 2], 2], '59': [[1, 2], 2], 'languages': [[1, 2], 2], 'العربية': [[1, 2], 2], 'অসমীয়া': [[1, 2], 2], 'Azərbaycanca': [[1, 2], 2], 'বাংলা': [[1, 2], 2], 'Български': [[1, 2], 2], 'Català': [[1, 2], 2], 'Čeština': [[1, 2], 2], 'Cymraeg': [[1, 2], 2], 'Dansk': [[1, 2], 2], 'Deutsch': [[1, 2], 2], 'Eesti': [[1, 2], 2], 'Ελληνικά': [[1, 2], 2], 'Español': [[1, 2], 2], 'Euskara': [[1, 2], 2], 'فارسی': [[1, 2], 2], 'Français': [[1, 2], 2], '한국어': [[1, 2], 2], 'Հայերեն': [[1, 2], 2], 'हिन्दी': [[1, 2], 2], 'Hrvatski': [[1, 2], 2], 'Bahasa': [[1, 2], 4], 'Indonesia': [[1, 2], 2], 'Italiano': [[1, 2], 2], 'עברית': [[1, 2], 2], 'ಕನ್ನಡ': [[1, 2], 2], 'Latviešu': [[1, 2], 2], 'Magyar': [[1, 2], 2], 'Македонски': [[1, 2], 2], 'മലയാളം': [[1, 2], 2], 'मराठी': [[1, 2], 2], 'Melayu': [[1, 2], 2], 'Монгол': [[1, 2], 2], 'မြန်မာဘာသာ': [[1, 2], 2], 'Nederlands': [[1, 2], 2], '日本語': [[1, 2], 2], 'Norsk': [[1, 2], 4], 'bokmål': [[1, 2], 2], 'nynorsk': [[1, 2], 2], 'Polski': [[1, 2], 2], 'Português': [[1, 2], 2], 'Română': [[1, 2], 2], 'Русский': [[1, 2], 2], 'Shqip': [[1, 2], 2], 'Simple': [[1, 2], 2], 'English': [[1, 2], 4], 'Slovenčina': [[1, 2], 2], 'Slovenščina': [[1, 2], 2], 'Српски': [[1, 2], 2], 'srpski': [[1, 2], 2], 'Srpskohrvatski': [[1, 2], 2], 'српскохрватски': [[1, 2], 2], 'Sunda': [[1, 2], 2], 'Suomi': [[1, 2], 2], 'Svenska': [[1, 2], 2], 'தமிழ்': [[1, 2], 2], 'ไทย': [[1, 2], 2], 'Тоҷикӣ': [[1, 2], 2], 'Türkçe': [[1, 2], 2], 'Українська': [[1, 2], 2], 'Tiếng': [[1, 2], 2], 'Việt': [[1, 2], 2], '吴语': [[1, 2], 2], 'ייִדיש': [[1, 2], 2], '粵語': [[1, 2], 2], '中文': [[1, 2], 2], 'Article': [[1, 2], 2], 'Read': [[1, 2], 4], 'Edit': [[1, 2], 4], 'View': [[1, 2], 4], 'history': [[1, 2], 4], 'More': [[1, 2], 4], 'From': [[1, 2], 4], 'free': [[1, 2], 4], 'encyclopedia': [[1, 2], 2], 'Redirected': [[1], 1], 'extracting': [[1, 2], 4], 'discovering': [[1, 2], 2], 'patterns': [[1, 2], 26], 'large': [[1, 2], 8], 'sets': [[1, 2], 4], 'Web': [[1, 2], 4], 'redirects': [[1, 2], 2], 'For': [[1, 2], 10], 'web': [[1, 2], 2], 'browser': [[1, 2], 2], 'based': [[1, 2], 8], 'cryptocurrency': [[1, 2], 2], 'see': [[1, 2], 2], 'Part': [[1, 2], 2], 'a': [[1, 2], 48], 'series': [[1, 2], 2], 'on': [[1, 2], 18], 'Paradigms': [[1, 2], 2], 'Problems': [[1, 2], 2], 'k': [[1, 2], 6], 'Learning': [[1, 2], 12], 'with': [[1, 2], 8], 'humans': [[1, 2], 2], 'Model': [[1, 2], 2], 'diagnostics': [[1, 2], 2], 'Theory': [[1, 2], 2], 'Machine': [[1, 2], 10], 'learning': [[1, 2], 14], 'venues': [[1, 2], 2], 'articles': [[1, 2], 2], 'v': [[1, 2], 8], 't': [[1, 2], 8], 'e': [[1, 2], 8], 'The': [[1, 2], 48], 'term': [[1, 2], 10], 'is': [[1, 2], 52], 'analysis': [[1, 2], 6], 'statistics': [[1, 2], 2], 'well': [[1, 2], 2], 'any': [[1, 2], 4], 'application': [[1, 2], 4], 'including': [[1, 2], 2], 'book': [[1, 2], 2], 'Practical': [[1, 2], 10], 'machine': [[1, 2], 12], 'techniques': [[1, 2], 8], 'scale': [[1, 2], 2], '—or': [[1, 2], 2], 'when': [[1, 2], 8], 'referring': [[1, 2], 2], 'actual': [[1, 2], 4], 'methods': [[1, 2], 2], 'artificial': [[1, 2], 2], 'intelligence': [[1, 2], 2], '—are': [[1, 2], 2], 'appropriate': [[1, 2], 2], '\\n': [[1, 2], 20], 'task': [[1, 2], 4], 'semi': [[1, 2], 2], 'unusual': [[1, 2], 2], 'records': [[1, 2], 2], 'This': [[1, 2], 6], 'usually': [[1, 2], 2], 'involves': [[1, 2], 4], 'using': [[1, 2], 6], 'database': [[1, 2], 6], 'such': [[1, 2], 12], 'These': [[1, 2], 4], 'can': [[1, 2], 20], 'then': [[1, 2], 6], 'be': [[1, 2], 36], 'seen': [[1, 2], 2], 'kind': [[1, 2], 2], 'summary': [[1, 2], 2], 'input': [[1, 2], 2], 'may': [[1, 2], 12], 'used': [[1, 2], 16], 'further': [[1, 2], 2], 'or': [[1, 2], 10], 'for': [[1, 2], 24], 'example': [[1, 2], 12], 'step': [[1, 2], 8], 'might': [[1, 2], 2], 'identify': [[1, 2], 4], 'multiple': [[1, 2], 2], 'groups': [[1, 2], 6], 'which': [[1, 2], 14], 'obtain': [[1, 2], 2], 'accurate': [[1, 2], 2], 'prediction': [[1, 2], 4], 'results': [[1, 2], 4], 'by': [[1, 2], 22], 'Neither': [[1, 2], 2], 'collection': [[1, 2], 2], 'preparation': [[1, 2], 6], 'nor': [[1, 2], 2], 'result': [[1, 2], 4], 'interpretation': [[1, 2], 2], 'reporting': [[1, 2], 2], 'part': [[1, 2], 4], 'although': [[1, 2], 2], 'they': [[1, 2], 4], 'do': [[1, 2], 8], 'belong': [[1, 2], 2], 'overall': [[1, 2], 2], 'KDD': [[1, 2], 4], 'process': [[1, 2], 12], 'additional': [[1, 2], 2], 'steps': [[1, 2], 4], 'difference': [[1, 2], 2], 'between': [[1, 2], 4], 'regardless': [[1, 2], 2], 'amount': [[1, 2], 2], 'contrast': [[1, 2], 2], 'statistical': [[1, 2], 2], 'models': [[1, 2], 8], 'uncover': [[1, 2], 4], 'clandestine': [[1, 2], 2], 'hidden': [[1, 2], 2], 'volume': [[1, 2], 2], 'related': [[1, 2], 4], 'terms': [[1, 2], 6], 'fishing': [[1, 2], 4], '1960s': [[1, 2], 2], 'statisticians': [[1, 2], 2], 'economists': [[1, 2], 2], 'like': [[1, 2], 2], 'dredging': [[1, 2], 2], 'company': [[1, 2], 4], 'pitch': [[1, 2], 2], 'their': [[1, 2], 2], 'Database': [[1, 2], 2], 'Mining': [[1, 2], 48], 'Workstation': [[1, 2], 2], 'Other': [[1, 2], 4], 'include': [[1, 2], 4], 'archaeology': [[1, 2], 2], 'harvesting': [[1, 2], 2], 'discovery': [[1, 2], 8], 'etc': [[1, 2], 2], 'knowledge': [[1, 2], 10], 'manual': [[1, 2], 2], 'extraction': [[1, 2], 2], 'databases': [[1, 2], 2], 'It': [[1, 2], 6], 'exists': [[1, 2], 2], 'however': [[1, 2], 2], 'many': [[1, 2], 8], 'variations': [[1, 2], 2], 'theme': [[1, 2], 2], 'simplified': [[1, 2], 2], 'Validation': [[1, 2], 2], 'Polls': [[1, 2], 2], 'conducted': [[1, 2], 2], '2002': [[1, 2], 2], '2004': [[1, 2], 6], '2007': [[1, 2], 6], '2014': [[1, 2], 8], 'show': [[1, 2], 2], 'that': [[1, 2], 12], 'CRISP': [[1, 2], 4], 'DM': [[1, 2], 4], 'methodology': [[1, 2], 4], 'leading': [[1, 2], 2], 'miners': [[1, 2], 2], 'However': [[1, 2], 4], '3–4': [[1, 2], 2], 'times': [[1, 2], 2], 'people': [[1, 2], 4], 'reported': [[1, 2], 2], 'Several': [[1, 2], 2], 'teams': [[1, 2], 2], 'researchers': [[1, 2], 2], 'have': [[1, 2], 14], 'published': [[1, 2], 2], 'reviews': [[1, 2], 2], 'Before': [[1, 2], 4], 'algorithms': [[1, 2], 8], 'target': [[1, 2], 6], 'set': [[1, 2], 14], 'must': [[1, 2], 4], 'assembled': [[1, 2], 2], 'As': [[1, 2], 8], 'only': [[1, 2], 4], 'actually': [[1, 2], 4], 'present': [[1, 2], 6], 'enough': [[1, 2], 6], 'contain': [[1, 2], 4], 'these': [[1, 2], 2], 'while': [[1, 2], 2], 'remaining': [[1, 2], 2], 'concise': [[1, 2], 2], 'mined': [[1, 2], 2], 'within': [[1, 2], 2], 'an': [[1, 2], 6], 'acceptable': [[1, 2], 2], 'time': [[1, 2], 2], 'limit': [[1, 2], 2], 'A': [[1, 2], 16], 'common': [[1, 2], 6], 'essential': [[1, 2], 2], 'analyze': [[1, 2], 2], 'six': [[1, 2], 2], 'classes': [[1, 2], 2], 'tasks': [[1, 2], 2], 'An': [[1, 2], 4], 'produced': [[1, 2], 4], 'unintentionally': [[1, 2], 2], 'misused': [[1, 2], 2], 'producing': [[1, 2], 2], 'appear': [[1, 2], 2], 'significant': [[1, 2], 2], 'but': [[1, 2], 6], 'not': [[1, 2], 18], 'predict': [[1, 2], 2], 'future': [[1, 2], 2], 'behavior': [[1, 2], 2], 'cannot': [[1, 2], 2], 'simple': [[1, 2], 2], 'problem': [[1, 2], 6], 'same': [[1, 2], 2], 'arise': [[1, 2], 2], 'different': [[1, 2], 2], 'phases': [[1, 2], 2], 'thus': [[1, 2], 2], 'train': [[1, 2], 2], 'test': [[1, 2], 2], 'split—when': [[1, 2], 2], 'applicable': [[1, 2], 2], 'all—may': [[1, 2], 2], 'sufficient': [[1, 2], 2], 'prevent': [[1, 2], 2], 'happening': [[1, 2], 2], 'final': [[1, 2], 4], 'verify': [[1, 2], 2], 'occur': [[1, 2], 2], 'wider': [[1, 2], 2], 'Not': [[1, 2], 2], 'all': [[1, 2], 2], 'found': [[1, 2], 2], 'necessarily': [[1, 2], 2], 'valid': [[1, 2], 2], 'find': [[1, 2], 4], 'training': [[1, 2], 2], 'general': [[1, 2], 2], 'called': [[1, 2], 2], 'To': [[1, 2], 2], 'overcome': [[1, 2], 2], 'evaluation': [[1, 2], 2], 'If': [[1, 2], 4], 'learned': [[1, 2], 6], 'meet': [[1, 2], 4], 'desired': [[1, 2], 4], 'standards': [[1, 2], 6], 'it': [[1, 2], 12], 'necessary': [[1, 2], 2], 're': [[1, 2], 2], 'evaluate': [[1, 2], 2], 'change': [[1, 2], 2], 'pre': [[1, 2], 2], 'interpret': [[1, 2], 2], 'turn': [[1, 2], 4], 'them': [[1, 2], 4], 'into': [[1, 2], 4], 'premier': [[1, 2], 2], 'professional': [[1, 2], 2], 'body': [[1, 2], 2], 'field': [[1, 2], 2], 's': [[1, 2], 8], 'ACM': [[1, 2], 6], 'Interest': [[1, 2], 2], 'Group': [[1, 2], 6], 'SIG': [[1, 2], 2], 'Knowledge': [[1, 2], 10], 'Discovery': [[1, 2], 4], 'Computer': [[1, 2], 6], 'science': [[1, 2], 2], 'conferences': [[1, 2], 2], 'topics': [[1, 2], 4], 'There': [[1, 2], 2], 'been': [[1, 2], 10], 'some': [[1, 2], 4], 'efforts': [[1, 2], 2], 'define': [[1, 2], 2], '1999': [[1, 2], 2], 'European': [[1, 2], 10], 'exchanging': [[1, 2], 2], 'extracted': [[1, 2], 2], 'models—in': [[1, 2], 2], 'particular': [[1, 2], 10], 'use': [[1, 2], 6], '—the': [[1, 2], 2], 'key': [[1, 2], 2], 'standard': [[1, 2], 4], 'language': [[1, 2], 4], 'developed': [[1, 2], 4], 'DMG': [[1, 2], 2], 'supported': [[1, 2], 2], 'exchange': [[1, 2], 2], 'format': [[1, 2], 2], 'name': [[1, 2], 2], 'suggests': [[1, 2], 2], 'covers': [[1, 2], 2], 'high': [[1, 2], 4], 'importance': [[1, 2], 2], 'business': [[1, 2], 4], 'extensions': [[1, 2], 2], 'cover': [[1, 2], 2], 'wherever': [[1, 2], 2], 'there': [[1, 2], 8], 'digital': [[1, 2], 4], 'available': [[1, 2], 8], 'today': [[1, 2], 2], 'While': [[1, 2], 2], 'itself': [[1, 2], 2], 'no': [[1, 2], 4], 'ethical': [[1, 2], 2], 'implications': [[1, 2], 2], 'often': [[1, 2], 2], 'associated': [[1, 2], 2], 'relation': [[1, 2], 2], 'ways': [[1, 2], 4], 'cases': [[1, 2], 4], 'contexts': [[1, 2], 2], 'raise': [[1, 2], 2], 'questions': [[1, 2], 2], 'regarding': [[1, 2], 2], 'legality': [[1, 2], 4], 'has': [[1, 2], 8], 'raised': [[1, 2], 2], 'privacy': [[1, 2], 10], 'requires': [[1, 2], 2], 'uncovers': [[1, 2], 2], 'compromise': [[1, 2], 2], 'per': [[1, 2], 2], 'se': [[1, 2], 2], 'before—and': [[1, 2], 2], 'purposes': [[1, 2], 2], 'of—the': [[1, 2], 2], 'threat': [[1, 2], 2], 'individual': [[1, 2], 2], 'comes': [[1, 2], 2], 'play': [[1, 2], 2], 'once': [[1, 2], 2], 'compiled': [[1, 2], 4], 'cause': [[1, 2], 2], 'miner': [[1, 2], 2], 'anyone': [[1, 2], 2], 'who': [[1, 2], 6], 'access': [[1, 2], 4], 'newly': [[1, 2], 2], 'able': [[1, 2], 4], 'specific': [[1, 2], 2], 'individuals': [[1, 2], 10], 'especially': [[1, 2], 2], 'were': [[1, 2], 6], 'originally': [[1, 2], 2], 'anonymous': [[1, 2], 2], 'recommended': [[1, 2], 2], 'according': [[1, 2], 2], 'whom': [[1, 2], 2], 'before': [[1, 2], 2], 'modified': [[1, 2], 2], 'so': [[1, 2], 4], 'become': [[1, 2], 2], 'potentially': [[1, 2], 2], 'allow': [[1, 2], 4], 'identification': [[1, 2], 2], 'occurred': [[1, 2], 2], 'journalists': [[1, 2], 2], 'several': [[1, 2], 2], 'search': [[1, 2], 4], 'histories': [[1, 2], 2], 'inadvertently': [[1, 2], 2], 'released': [[1, 2], 2], 'AOL': [[1, 2], 4], 'inadvertent': [[1, 2], 2], 'revelation': [[1, 2], 2], 'patrons': [[1, 2], 2], 'Walgreens': [[1, 2], 2], 'filed': [[1, 2], 2], 'lawsuit': [[1, 2], 2], 'against': [[1, 2], 2], '2011': [[1, 2], 20], 'selling\\nprescription': [[1, 2], 2], 'companies': [[1, 2], 6], 'provided': [[1, 2], 2], 'data\\nto': [[1, 2], 2], 'pharmaceutical': [[1, 2], 2], '1998': [[1, 2], 2], '2000': [[1, 2], 2], 'currently': [[1, 2], 2], 'effectively': [[1, 2], 2], 'expose': [[1, 2], 2], 'users': [[1, 2], 2], 'exploitation': [[1, 2], 2], 'U': [[1, 2], 4], 'S': [[1, 2], 4], 'consequence': [[1, 2], 2], 'increased': [[1, 2], 2], 'discussion': [[1, 2], 2], 'revoke': [[1, 2], 2], 'agreement': [[1, 2], 4], 'will': [[1, 2], 2], 'fully': [[1, 2], 2], 'exposed': [[1, 2], 2], 'attempts': [[1, 2], 2], 'reach': [[1, 2], 2], 'failed': [[1, 2], 2], 'Kingdom': [[1, 2], 2], 'corporations': [[1, 2], 2], 'way': [[1, 2], 2], 'certain': [[1, 2], 2], 'customers': [[1, 2], 2], 'forcing': [[1, 2], 2], 'pay': [[1, 2], 2], 'unfairly': [[1, 2], 2], 'prices': [[1, 2], 2], 'tend': [[1, 2], 2], 'lower': [[1, 2], 2], 'socio': [[1, 2], 2], 'economic': [[1, 2], 2], 'status': [[1, 2], 2], 'savvy': [[1, 2], 2], 'exploited': [[1, 2], 2], 'market': [[1, 2], 2], 'places': [[1, 2], 2], 'addressed': [[1, 2], 2], 'Biotech': [[1, 2], 6], 'Business': [[1, 2], 10], 'Week': [[1, 2], 6], 'i': [[1, 2], 2], 'n': [[1, 2], 2], 'practice': [[1, 2], 2], 'HIPAA': [[1, 2], 6], 'offer': [[1, 2], 2], 'greater': [[1, 2], 2], 'protection': [[1, 2], 4], 'than': [[1, 2], 2], 'longstanding': [[1, 2], 2], 'regulations': [[1, 2], 2], 'research': [[1, 2], 2], 'arena': [[1, 2], 2], 'says': [[1, 2], 2], 'AAHC': [[1, 2], 2], 'importantly': [[1, 2], 2], 'rule': [[1, 2], 2], 'goal': [[1, 2], 2], 'through': [[1, 2], 2], 'informed': [[1, 2], 2], 'consent': [[1, 2], 2], 'approach': [[1, 2], 2], 'level': [[1, 2], 2], 'incomprehensibility': [[1, 2], 2], 'average': [[1, 2], 2], 'legislation': [[1, 2], 2], 'Under': [[1, 2], 2], 'copyright': [[1, 2], 6], 'works': [[1, 2], 2], 'without': [[1, 2], 2], 'permission': [[1, 2], 2], 'owner': [[1, 2], 2], 'legal': [[1, 2], 2], 'Where': [[1, 2], 2], 'pure': [[1, 2], 2], 'copyright—but': [[1, 2], 2], 'rights': [[1, 2], 2], 'exist': [[1, 2], 2], 'becomes': [[1, 2], 2], 'subject': [[1, 2], 2], 'On': [[1, 2], 4], 'recommendation': [[1, 2], 2], 'led': [[1, 2], 2], 'UK': [[1, 2], 2], 'government': [[1, 2], 2], 'amend': [[1, 2], 2], 'its': [[1, 2], 4], 'content': [[1, 2], 6], 'provision': [[1, 2], 2], 'upholds': [[1, 2], 2], 'America': [[1, 2], 2], 'fair': [[1, 2], 4], 'countries': [[1, 2], 2], 'Israel': [[1, 2], 2], 'Taiwan': [[1, 2], 2], 'South': [[1, 2], 2], 'Korea': [[1, 2], 2], 'transformative': [[1, 2], 2], 'does': [[1, 2], 2], 'supplant': [[1, 2], 2], 'original': [[1, 2], 4], 'work': [[1, 2], 2], 'viewed': [[1, 2], 2], 'being': [[1, 2], 2], 'lawful': [[1, 2], 2], 'under': [[1, 2], 6], 'following': [[1, 2], 4], 'licenses': [[1, 2], 4], 'Public': [[1, 2], 2], 'code': [[1, 2], 2], 'proprietary': [[1, 2], 2], 'Methods': [[1, 2], 4], 'Application': [[1, 2], 4], 'domains': [[1, 2], 2], 'examples': [[1, 2], 2], 'about': [[1, 2], 2], 'out': [[1, 2], 2], 'opposed': [[1, 2], 2], 'analyzing': [[1, 2], 2], 'resources': [[1, 2], 2], 'b': [[1, 2], 6], 'c': [[1, 2], 6], '2006': [[1, 2], 6], '04': [[1, 2], 4], '30': [[1, 2], 10], 'Retrieved': [[1, 2], 26], '01': [[1, 2], 2], '27': [[1, 2], 2], 'Clifton': [[1, 2], 2], 'Christopher': [[1, 2], 2], '2010': [[1, 2], 4], '09': [[1, 2], 4], 'Archived': [[1, 2], 12], '2012': [[1, 2], 4], '08': [[1, 2], 2], '07': [[1, 2], 4], 'Kamber': [[1, 2], 4], 'Micheline': [[1, 2], 4], 'Pei': [[1, 2], 2], 'Jian': [[1, 2], 2], 'Concepts': [[1, 2], 8], 'Techniques': [[1, 2], 6], '978': [[1, 2], 14], '0': [[1, 2], 12], '381479': [[1, 2], 2], 'Smyth': [[1, 2], 2], 'Padhraic': [[1, 2], 2], '1996': [[1, 2], 2], '17': [[1, 2], 4], 'December': [[1, 2], 4], '2001': [[1, 2], 2], 'concepts': [[1, 2], 4], 'p': [[1, 2], 6], '\\xa05': [[1, 2], 2], '55860': [[1, 2], 2], '489': [[1, 2], 2], 'Thus': [[1, 2], 2], 'should': [[1, 2], 2], 'appropriately': [[1, 2], 2], 'named': [[1, 2], 2], 'unfortunately': [[1, 2], 2], 'somewhat': [[1, 2], 2], 'long': [[1, 2], 2], 'Frank': [[1, 2], 6], 'Eibe': [[1, 2], 6], 'Hall': [[1, 2], 6], 'Mark': [[1, 2], 6], '374856': [[1, 2], 4], 'Bouckaert': [[1, 2], 2], 'Remco': [[1, 2], 2], 'R': [[1, 2], 2], 'Holmes': [[1, 2], 2], 'Geoffrey': [[1, 2], 2], 'Pfahringer': [[1, 2], 2], 'Bernhard': [[1, 2], 2], 'Reutemann': [[1, 2], 2], 'Peter': [[1, 2], 2], 'Journal': [[1, 2], 4], '2533–2541': [[1, 2], 2], 'was': [[1, 2], 4], 'changed\\xa0': [[1, 2], 2], 'added': [[1, 2], 2], 'primarily': [[1, 2], 2], 'marketing': [[1, 2], 2], 'reasons': [[1, 2], 2], 'Olson': [[1, 2], 2], 'D': [[1, 2], 4], 'L': [[1, 2], 2], 'services': [[1, 2], 2], 'Service': [[1, 2], 4], '181–193': [[1, 2], 2], 'Lovell': [[1, 2], 2], 'Michael': [[1, 2], 2], 'C': [[1, 2], 4], '1983': [[1, 2], 2], 'Review': [[1, 2], 10], 'Economics': [[1, 2], 2], 'Statistics': [[1, 2], 4], '65': [[1, 2], 2], 'Charemza': [[1, 2], 2], 'Wojciech': [[1, 2], 2], 'W': [[1, 2], 2], 'Deadman': [[1, 2], 2], 'Derek': [[1, 2], 2], 'F': [[1, 2], 4], '1992': [[1, 2], 2], 'New': [[1, 2], 8], 'Directions': [[1, 2], 2], 'Econometric': [[1, 2], 2], 'Practice': [[1, 2], 2], 'Aldershot': [[1, 2], 2], 'Edward': [[1, 2], 2], 'Elgar': [[1, 2], 2], 'pp': [[1, 2], 2], '\\xa014–31': [[1, 2], 2], '85278': [[1, 2], 2], '461': [[1, 2], 2], 'X': [[1, 2], 2], 'Mena': [[1, 2], 2], 'Jesús': [[1, 2], 2], 'Forensics': [[1, 2], 2], 'Law': [[1, 2], 8], 'Enforcement': [[1, 2], 2], 'Security': [[1, 2], 2], 'Intelligence': [[1, 2], 2], 'Boca': [[1, 2], 2], 'Raton': [[1, 2], 2], 'FL': [[1, 2], 2], 'CRC': [[1, 2], 2], 'Press': [[1, 2], 4], 'Taylor': [[1, 2], 2], 'Francis': [[1, 2], 2], '4398': [[1, 2], 2], '6069': [[1, 2], 2], 'Parker': [[1, 2], 4], 'Gary': [[1, 2], 2], 'Introduction': [[1, 2], 4], 'KD': [[1, 2], 2], 'Nuggets': [[1, 2], 2], 'August': [[1, 2], 4], 'Coenen': [[1, 2], 2], 'Frans': [[1, 2], 2], '02': [[1, 2], 2], 'Engineering': [[1, 2], 6], '26': [[1, 2], 2], 'Kantardzic': [[1, 2], 2], 'Mehmed': [[1, 2], 2], '2003': [[1, 2], 4], 'Models': [[1, 2], 2], 'Algorithms': [[1, 2], 4], 'John': [[1, 2], 4], 'Wiley': [[1, 2], 2], 'Sons': [[1, 2], 2], '471': [[1, 2], 2], '22852': [[1, 2], 2], 'KDnuggets': [[1, 2], 8], 'Methodology': [[1, 2], 8], 'Poll': [[1, 2], 8], 'Lukasz': [[1, 2], 2], 'Kurgan': [[1, 2], 2], 'Petr': [[1, 2], 2], 'Musilek': [[1, 2], 2], 'Volume': [[1, 2], 2], '21': [[1, 2], 4], 'Issue': [[1, 2], 2], 'March': [[1, 2], 6], 'pp\\xa01–24': [[1, 2], 2], 'Cambridge': [[1, 2], 2], 'University': [[1, 2], 2], 'York': [[1, 2], 6], 'Azevedo': [[1, 2], 2], 'Santos': [[1, 2], 2], 'M': [[1, 2], 4], 'Proceedings': [[1, 2], 4], 'IADIS': [[1, 2], 2], 'Conference': [[1, 2], 2], '2008': [[1, 2], 4], 'pp\\xa0182–185': [[1, 2], 2], 'Hawkins': [[1, 2], 2], 'Douglas': [[1, 2], 2], 'overfitting': [[1, 2], 2], 'Chemical': [[1, 2], 2], 'Information': [[1, 2], 4], 'Sciences': [[1, 2], 2], '44': [[1, 2], 2], 'International': [[1, 2], 2], 'Conferences': [[1, 2], 2], 'Günnemann': [[1, 2], 2], 'Stephan': [[1, 2], 2], 'Kremer': [[1, 2], 2], 'Hardy': [[1, 2], 2], 'Seidl': [[1, 2], 2], 'Thomas': [[1, 2], 2], 'extension': [[1, 2], 2], 'PMML': [[1, 2], 2], 'subspace': [[1, 2], 2], 'clustering': [[1, 2], 2], 'workshop': [[1, 2], 2], 'Predictive': [[1, 2], 4], 'markup': [[1, 2], 2], 'modeling': [[1, 2], 2], '\\xa048': [[1, 2], 2], '4503': [[1, 2], 2], '0837': [[1, 2], 2], 'Seltzer': [[1, 2], 2], 'William': [[1, 2], 2], '2005': [[1, 2], 2], 'ASA': [[1, 2], 2], 'Section': [[1, 2], 2], 'Government': [[1, 2], 2], 'American': [[1, 2], 2], 'Statistical': [[1, 2], 6], 'Association': [[1, 2], 4], 'Pitts': [[1, 2], 2], 'Chip': [[1, 2], 2], '15': [[1, 2], 4], 'Washington': [[1, 2], 4], 'Spectator': [[1, 2], 2], 'Taipale': [[1, 2], 2], 'Kim': [[1, 2], 2], 'Columbia': [[1, 2], 2], 'Science': [[1, 2], 4], 'Technology': [[1, 2], 2], 'April': [[1, 2], 4], 'Resig': [[1, 2], 2], '16': [[1, 2], 4], 'Think': [[1, 2], 2], 'You': [[1, 2], 2], 'Dig': [[1, 2], 2], 'Implications': [[1, 2], 2], 'Aggregation': [[1, 2], 2], 'NASCIO': [[1, 2], 2], 'Brief': [[1, 2], 2], 'September': [[1, 2], 2], 'Ohm': [[1, 2], 2], 'Paul': [[1, 2], 2], 'Harvard': [[1, 2], 2], 'identified': [[1, 2], 2], 'SecurityFocus': [[1, 2], 2], 'Kshetri': [[1, 2], 2], 'Nir': [[1, 2], 2], 'Telecommunications': [[1, 2], 2], 'Policy': [[1, 2], 2], '38': [[1, 2], 2], 'Weiss': [[1, 2], 2], 'Martin': [[1, 2], 2], 'Archick': [[1, 2], 2], 'Kristin': [[1, 2], 2], '19': [[1, 2], 4], 'May': [[1, 2], 4], '2016': [[1, 2], 2], 'Congressional': [[1, 2], 2], '\\xa06': [[1, 2], 2], 'R44257': [[1, 2], 2], 'October': [[1, 2], 2], '2015': [[1, 2], 2], 'George': [[1, 2], 2], '2018': [[1, 2], 2], 'Financial': [[1, 2], 2], 'Times': [[1, 2], 2], '2022': [[1, 2], 2], 'Editors': [[1, 2], 2], 'June': [[1, 2], 2], 'BIOMEDICINE': [[1, 2], 2], 'Rule': [[1, 2], 2], 'Impedes': [[1, 2], 2], 'Biomedical': [[1, 2], 2], 'retrieved': [[1, 2], 2], 'November': [[1, 2], 10], '2009': [[1, 2], 2], 'LexisNexis': [[1, 2], 2], 'Academic': [[1, 2], 2], 'Out': [[1, 2], 2], 'com': [[1, 2], 4], 'Commission': [[1, 2], 2], '14': [[1, 2], 6], 'Libraries': [[1, 2], 2], 'Lexology': [[1, 2], 2], 'Antonelli': [[1, 2], 2], 'Ltd': [[1, 2], 2], '2013': [[1, 2], 2], 'Discovering': [[1, 2], 2], 'Concept': [[1, 2], 2], 'Implementation': [[1, 2], 2], 'IEEE': [[1, 2], 2], 'Transactions': [[1, 2], 2], 'Text': [[1, 2], 2], 'Handbook': [[1, 2], 6], 'High': [[1, 2], 2], 'Performance': [[1, 2], 2], 'Scaling': [[1, 2], 2], 'Applications': [[1, 2], 4], 'Systems': [[1, 2], 2], 'Elements': [[1, 2], 4], 'Inference': [[1, 2], 2], 'Prediction': [[1, 2], 2], 'Exploring': [[1, 2], 2], 'Hyperlinks': [[1, 2], 2], 'Usage': [[1, 2], 2], 'Murphy': [[1, 2], 2], 'Chris': [[1, 2], 2], 'Is': [[1, 2], 2], 'Speech': [[1, 2], 2], 'Analysis': [[1, 2], 2], 'Reference': [[1, 2], 2], 'Pattern': [[1, 2], 2], 'Recognition': [[1, 2], 2], 'January': [[1, 2], 2], 'media': [[1, 2], 2], 'Creating': [[1, 2], 2], 'warehouse': [[1, 2], 4], 'Variants': [[1, 2], 2], 'Fact': [[1, 2], 2], 'Dimension': [[1, 2], 2], 'Filling': [[1, 2], 2], 'Using': [[1, 2], 2], 'People': [[1, 2], 2], 'Products': [[1, 2], 2], 'Note': [[1, 2], 2], 'template': [[1, 2], 2], 'roughly': [[1, 2], 2], 'follows': [[1, 2], 2], 'systems': [[1, 2], 2], 'organization': [[1, 2], 4], 'Mathematics': [[1, 2], 2], 'computing': [[1, 2], 4], 'Applied': [[1, 2], 2], 'National': [[1, 2], 2], 'Hidden': [[1, 2], 2], 'categories': [[1, 2], 2]}\n"
     ]
    }
   ],
   "source": [
    "# TODO\n",
    "# Keyword tìm kiếm: python pickle\n",
    "# Dùng pickle để lưu dictionary data xuống đĩa. Sau đó đọc lên và in ra 10 giá trị đầu tiên của nó.\n",
    "\n",
    "# 1. Lưu data\n",
    "import pickle\n",
    "\n",
    "with open('output.pickle', 'wb') as f :\n",
    "    pickle.dump(data, f, protocol=pickle.HIGHEST_PROTOCOL)\n",
    "\n",
    "# 2. Đọc lên và in ra\n",
    "with open(\"output.pickle\", \"rb\") as f:\n",
    "    output = pickle.load(f)\n",
    "\n",
    "print(output)"
   ]
  },
  {
   "cell_type": "code",
   "execution_count": null,
   "metadata": {},
   "outputs": [],
   "source": []
  }
 ],
 "metadata": {
  "colab": {
   "name": "Lab01-WebCrawler.ipynb",
   "provenance": []
  },
  "kernelspec": {
   "display_name": "Python 3 (ipykernel)",
   "language": "python",
   "name": "python3"
  },
  "language_info": {
   "codemirror_mode": {
    "name": "ipython",
    "version": 3
   },
   "file_extension": ".py",
   "mimetype": "text/x-python",
   "name": "python",
   "nbconvert_exporter": "python",
   "pygments_lexer": "ipython3",
   "version": "3.10.4"
  }
 },
 "nbformat": 4,
 "nbformat_minor": 1
}
