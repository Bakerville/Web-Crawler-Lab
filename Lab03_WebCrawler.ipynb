{
 "cells": [
  {
   "cell_type": "markdown",
   "metadata": {
    "id": "EaqjihtwRrys"
   },
   "source": [
    "# Lab03: Web Crawler (Continue) & Information Retrieval.\n",
    "\n",
    "- MSSV: 19120138\n",
    "- Họ và tên: Trần Đức Thuỵ"
   ]
  },
  {
   "cell_type": "markdown",
   "metadata": {
    "heading_collapsed": true,
    "id": "FUG7FFTsRryt"
   },
   "source": [
    "## Yêu cầu bài tập\n",
    "\n",
    "**Cách làm bài**\n",
    "\n",
    "\n",
    "Bạn sẽ làm trực tiếp trên file notebook này; từ `TODO` cho biết những phần mà bạn cần phải làm.\n",
    "\n",
    "Bạn có thể thảo luận ý tưởng cũng như tham khảo các tài liệu, nhưng *code và bài làm phải là của bạn*. \n",
    "\n",
    "Nếu vi phạm thì sẽ bị 0 điểm cho bài tập này.\n",
    "\n",
    "**Cách nộp bài**\n",
    "\n",
    "Trước khi nộp bài, rerun lại notebook (`Kernel` -> `Restart & Run All`).\n",
    "\n",
    "Sau đó, tạo thư mục có tên `MSSV` của bạn (vd, nếu bạn có MSSV là 1234567 thì bạn đặt tên thư mục là `1234567`) Chép file notebook, file `t_data.txt` và file `raw_data` của các bạn (nếu file này kích thước lớn các bạn có thể chép link vào `link_data.txt`), nén thư mục `MSSV` này lại và nộp trên moodle.\n",
    "\n",
    "**Nội dung bài tập**\n",
    "\n",
    "Cài đặt một web crawler để thu thập dữ liệu từ: https://en.wikipedia.org/wiki/Web_mining."
   ]
  },
  {
   "cell_type": "markdown",
   "metadata": {
    "heading_collapsed": true,
    "id": "0HlhdT6BRryu"
   },
   "source": [
    "## Nội dung bài tập"
   ]
  },
  {
   "cell_type": "markdown",
   "metadata": {
    "hidden": true,
    "id": "c9-ZyiLjRryv"
   },
   "source": [
    "Cài đặt một Web crawler đơn giản bắt đầu từ URL: https://en.wikipedia.org/wiki/Web_mining, tìm liên kết và thu thập dữ liệu trong HTML tại URL này sau đó lặp lại với các URL vừa tìm được.\n"
   ]
  },
  {
   "cell_type": "code",
   "execution_count": 116,
   "metadata": {
    "hidden": true,
    "id": "FJktAwbCOyod"
   },
   "outputs": [],
   "source": [
    "import requests\n",
    "import re\n",
    "from bs4 import BeautifulSoup\n",
    "from bs4.element import Comment\n",
    "import string\n",
    "import pickle\n",
    "import sys"
   ]
  },
  {
   "cell_type": "markdown",
   "metadata": {
    "id": "mMSlOpSsRryv"
   },
   "source": [
    "## 1. Thu thập đường dẫn"
   ]
  },
  {
   "cell_type": "markdown",
   "metadata": {
    "id": "OZZ9lSUPRryw"
   },
   "source": [
    "- Robot.txt:  https://en.wikipedia.org/robots.txt\n",
    "- **Bước 1**: Thu thập đường dẫn từ https://en.wikipedia.org/wiki/Web_mining. Lưu trữ vào một danh sách `url_list`. \n",
    "- **Bước 2**: Lặp lại bước 1 cho các đường dẫn trong `url_list` (**lưu ý:** kiểm tra các đường dẫn vừa thu được đã nằm trong `url_list` hay không?). Dừng khi đã thu thập được 200 URLs."
   ]
  },
  {
   "cell_type": "code",
   "execution_count": 117,
   "metadata": {
    "id": "4HFWqw1VOrEe",
    "scrolled": false
   },
   "outputs": [],
   "source": [
    "def get_urls(url):\n",
    "    # TODO\n",
    "    # Lấy các url nằm trong trang web của url này, lưu lại vào biến urls\n",
    "    r = requests.get(url)\n",
    "    text = r.text\n",
    "    url_regex =r\"http[s]*://[a-zA-Z0-9?&-=;/_]*\"\n",
    "    urls = re.findall(url_regex, text)\n",
    "    urls = list(set(urls))\n",
    "    urls.sort(key=lambda k: len(k))\n",
    "    urls = [url.strip(\"');\") for url in urls]\n",
    "    return urls\n",
    "\n",
    "def get_urls_recursive(start_url, limit):\n",
    "    urls = [start_url]\n",
    "    for url in urls:\n",
    "        # TODO\n",
    "        # Lấy các url nằm trong trang web của url này, lưu lại vào biến new_urls\n",
    "        # Với mỗi url mới trong new_urls:\n",
    "        #   Nếu nó chưa nằm trong urls thì thêm nó vô  \n",
    "        # Nếu kích thước của urls vượt quá limit thì dừng và xóa phần dư thừa\n",
    "        new_url = get_urls(url)\n",
    "        urls.extend(new_url)\n",
    "        urls = list(set(urls))\n",
    "        if(len(urls)>limit):\n",
    "            break\n",
    "    return urls[:limit]\n",
    "url_list = get_urls_recursive('https://en.wikipedia.org/wiki/Web_mining', 200)"
   ]
  },
  {
   "cell_type": "code",
   "execution_count": 119,
   "metadata": {},
   "outputs": [
    {
     "data": {
      "text/plain": [
       "200"
      ]
     },
     "execution_count": 119,
     "metadata": {},
     "output_type": "execute_result"
    }
   ],
   "source": [
    "#Kiem tra do dai cua url_list\n",
    "len(url_list)"
   ]
  },
  {
   "cell_type": "markdown",
   "metadata": {
    "id": "zk4ty3jcRryx"
   },
   "source": [
    "## 2. Thu thập dữ liệu\n",
    "Thu thập dữ liệu từ `url_list`. Lưu trữ dữ liệu thu được vào dictionary data với keys là các từ, values gồm 2 phần tử: \n",
    "- `url_idx_list` với $idx \\in \\left[0,200\\right) \\cap \\mathbb{N}$\n",
    "- `frequency` \n",
    "    \n",
    "Ví dụ: `data['at']=[url_idx_list,frequency]`:\n",
    "- `url_idx_list`: danh sách các url mà trong dữ liệu của chúng (html document) chứa từ \"at\". \n",
    "- `frequency`: tần suất xuất hiện (số lần xuất hiện) của từ `at` trong dữ liệu của **tất cả đường dẫn thu được**.   "
   ]
  },
  {
   "cell_type": "code",
   "execution_count": 120,
   "metadata": {
    "code_folding": [],
    "id": "YB5nIZAhQr7-"
   },
   "outputs": [],
   "source": [
    "def text_filter(element):\n",
    "    if element.parent.name in ['style', 'title', 'script', 'head', '[document]', 'class', 'a', 'li']:\n",
    "        return False\n",
    "    elif isinstance(element, Comment):\n",
    "        '''Opinion mining?'''\n",
    "        return False\n",
    "    elif re.match(r\"[\\s\\r\\n]+\",str(element)): \n",
    "        '''space, return, endline'''\n",
    "        return False\n",
    "    return True\n",
    "\n",
    "def wordList(url):\n",
    "    # TODO\n",
    "    # Cài đặt lại như Lab02\n",
    "    try:\n",
    "        r = requests.get(url)\n",
    "    except:\n",
    "        return\n",
    "    try:\n",
    "        soup = BeautifulSoup(r.content, \"html.parser\",from_encoding=\"iso-8859-1\")\n",
    "        text = soup.findAll(text=True)\n",
    "        filtered_text = list(filter(text_filter, text)) # list của các chuỗi\n",
    "        word_list = []\n",
    "        for i in range(len(filtered_text)):\n",
    "            for remove_character in string.punctuation:  \n",
    "                filtered_text[i] = filtered_text[i].replace(remove_character, \" \")\n",
    "            filtered_list = filtered_text[i].split(\" \")\n",
    "            word_list.extend(filtered_list)\n",
    "        word_list = [i for i in word_list if i!='']\n",
    "        return word_list\n",
    "    except:\n",
    "        return\n",
    "\n",
    "def read_url(url, url_idx, data):\n",
    "    # TODO\n",
    "    # Cài đặt lại như Lab02\n",
    "    word_list = wordList(url)\n",
    "    if(word_list!=None):\n",
    "        for word in word_list:\n",
    "            if (word not in data.keys()):\n",
    "                data[word] = [[url_idx], 1]\n",
    "            else:\n",
    "                if (url_idx not in data[word][0]):\n",
    "                    data[word][0].append(url_idx)\n",
    "                data[word][1] = data[word][1] + 1"
   ]
  },
  {
   "cell_type": "code",
   "execution_count": 121,
   "metadata": {
    "id": "LrPuiiDhQfrJ",
    "scrolled": false
   },
   "outputs": [],
   "source": [
    "data = {}\n",
    "for url_index, url in enumerate(url_list, 1):\n",
    "    read_url(url, url_index, data)"
   ]
  },
  {
   "cell_type": "markdown",
   "metadata": {
    "id": "740eXy7pRryx"
   },
   "source": [
    "## 3. Tiền xử lý\n",
    "Loại bỏ các item trong data mà key là các stopword.\n",
    "\n",
    "**Ngữ liệu:** "
   ]
  },
  {
   "cell_type": "code",
   "execution_count": 122,
   "metadata": {
    "colab": {
     "base_uri": "https://localhost:8080/"
    },
    "id": "hC58K3Q3Rryy",
    "outputId": "99a20ea5-89c3-4d93-c74f-e43636b9b1cf",
    "scrolled": true
   },
   "outputs": [
    {
     "name": "stdout",
     "output_type": "stream",
     "text": [
      "['i', 'me', 'my', 'myself', 'we', 'our', 'ours', 'ourselves', 'you', \"you're\", \"you've\", \"you'll\", \"you'd\", 'your', 'yours', 'yourself', 'yourselves', 'he', 'him', 'his', 'himself', 'she', \"she's\", 'her', 'hers', 'herself', 'it', \"it's\", 'its', 'itself', 'they', 'them', 'their', 'theirs', 'themselves', 'what', 'which', 'who', 'whom', 'this', 'that', \"that'll\", 'these', 'those', 'am', 'is', 'are', 'was', 'were', 'be', 'been', 'being', 'have', 'has', 'had', 'having', 'do', 'does', 'did', 'doing', 'a', 'an', 'the', 'and', 'but', 'if', 'or', 'because', 'as', 'until', 'while', 'of', 'at', 'by', 'for', 'with', 'about', 'against', 'between', 'into', 'through', 'during', 'before', 'after', 'above', 'below', 'to', 'from', 'up', 'down', 'in', 'out', 'on', 'off', 'over', 'under', 'again', 'further', 'then', 'once', 'here', 'there', 'when', 'where', 'why', 'how', 'all', 'any', 'both', 'each', 'few', 'more', 'most', 'other', 'some', 'such', 'no', 'nor', 'not', 'only', 'own', 'same', 'so', 'than', 'too', 'very', 's', 't', 'can', 'will', 'just', 'don', \"don't\", 'should', \"should've\", 'now', 'd', 'll', 'm', 'o', 're', 've', 'y', 'ain', 'aren', \"aren't\", 'couldn', \"couldn't\", 'didn', \"didn't\", 'doesn', \"doesn't\", 'hadn', \"hadn't\", 'hasn', \"hasn't\", 'haven', \"haven't\", 'isn', \"isn't\", 'ma', 'mightn', \"mightn't\", 'mustn', \"mustn't\", 'needn', \"needn't\", 'shan', \"shan't\", 'shouldn', \"shouldn't\", 'wasn', \"wasn't\", 'weren', \"weren't\", 'won', \"won't\", 'wouldn', \"wouldn't\"]\n"
     ]
    },
    {
     "name": "stderr",
     "output_type": "stream",
     "text": [
      "[nltk_data] Downloading package stopwords to\n",
      "[nltk_data]     C:\\Users\\Admin\\AppData\\Roaming\\nltk_data...\n",
      "[nltk_data]   Package stopwords is already up-to-date!\n"
     ]
    }
   ],
   "source": [
    "import nltk\n",
    "nltk.download('stopwords')\n",
    "from nltk.corpus import stopwords\n",
    "english_stopwords = stopwords.words('english')\n",
    "print(english_stopwords)"
   ]
  },
  {
   "cell_type": "code",
   "execution_count": 123,
   "metadata": {
    "id": "cylo7trpRnun"
   },
   "outputs": [
    {
     "data": {
      "text/plain": [
       "True"
      ]
     },
     "execution_count": 123,
     "metadata": {},
     "output_type": "execute_result"
    }
   ],
   "source": [
    "# TODO\n",
    "# Loại bỏ các key của biến data mà nằm trong danh sách english_stopwords\n",
    "for word in english_stopwords:\n",
    "    if(word in data.keys()):\n",
    "        data.pop(word)\n",
    "# Kiểm tra xem còn các stopwords trong data hay không\n",
    "result = set(english_stopwords).intersection(set(data.keys()))\n",
    "result == set()"
   ]
  },
  {
   "cell_type": "code",
   "execution_count": 124,
   "metadata": {},
   "outputs": [],
   "source": [
    "# Chuẩn hoá các key viết hoa trong dictionary ex: \"Web\" -> \"web\"\n",
    "def lowercase_dict(dictionary):\n",
    "    return dict((k.lower(), v) for k, v in dictionary.items())"
   ]
  },
  {
   "cell_type": "code",
   "execution_count": 125,
   "metadata": {},
   "outputs": [],
   "source": [
    "data = lowercase_dict(data)"
   ]
  },
  {
   "cell_type": "markdown",
   "metadata": {
    "id": "CEoxNVHqRry2"
   },
   "source": [
    "## 4. Lưu trữ và biểu diễn dữ liệu\n",
    "Sử dụng pickle lưu lại data với tên file raw_data.\n",
    "### 4.1 Cơ sở dữ liệu giao tác:\n",
    "Thông thường, các cơ sở dữ liệu giao tác được lưu trong flat files (các tập phẳng) thay vì trong một hệ cơ sở dữ liệu. Các item là các số nguyên không âm, mỗi giao tác tương ứng với một dòng các số nguyên phân tách nhau bằng khoảng trắng.\n",
    "Ví dụ:\n",
    "\n",
    "0 1 2 3 4 5 6 7 8 9 10 11 12 13 14 15 16 17 18 19 20 21 22 23 24 25 26 27 28 29 \n",
    "\n",
    "30 31 32 \n",
    "\n",
    "33 34 35 \n",
    "\n",
    "36 37 38 39 40 41 42 43 44 45 46 \n",
    "\n",
    "38 39 47 48 \n",
    "\n",
    "38 39 48 49 50 51 52 53 54 55 56 57 58 \n",
    "\n",
    "32 41 59 60 61 62 \n",
    "\n",
    "3 39 48 \n",
    "\n",
    "63 64 65 66 67 68 \n",
    "\n",
    "32 69 \n",
    "\n",
    "48 70 71 72 \n",
    "\n",
    "39 73 74 75 76 77 78 79 \n",
    "\n",
    "36 38 39 41 48 79 80 81 \n",
    "\n",
    "82 83 84 \n",
    "\n",
    "41 85 86 87 88 \n",
    "\n",
    "39 48 89 90 91 92 93 94 95 96 97 98 99 100 101 \n",
    "\n",
    "36 38 39 48 89 \n",
    "\n",
    "39 41 102 103 104 105 106 107 108 \n",
    "\n",
    "38 39 41 109 110 \n",
    "\n",
    "39 111 112 113 114 115 116 117 118 \n",
    "\n",
    "119 120 121 122 123 124 125 126 127 128 129 130 131 132 133 \n",
    "\n",
    "48 134 135 136 \n",
    "\n",
    "39 48 137 138 139 140 141 142 143 144 145 146 147 148 149 \n",
    "\n",
    "39 150 151 152 \n",
    "\n",
    "38 39 56 153 154 155 "
   ]
  },
  {
   "cell_type": "code",
   "execution_count": 127,
   "metadata": {
    "id": "4l--TVLEoN7R"
   },
   "outputs": [],
   "source": [
    "with open('raw_data', 'wb') as f:\n",
    "    # TODO\n",
    "    pickle.dump(data, f, protocol=pickle.HIGHEST_PROTOCOL)"
   ]
  },
  {
   "cell_type": "markdown",
   "metadata": {
    "id": "QvUgw0VkRry3"
   },
   "source": [
    "### 4.2 Xuất dataset\n",
    "Lưu một cơ sở dữ liệu giao tác (transactional database) vào file t_data.txt: \n",
    "- Các item tương ứng với url_idx\n",
    "- Mỗi transaction tương ứng với một từ."
   ]
  },
  {
   "cell_type": "code",
   "execution_count": 129,
   "metadata": {
    "id": "ZorK46LdSCfi"
   },
   "outputs": [],
   "source": [
    "with open('t_data.txt', 'w') as f:\n",
    "    for word, (url, freq) in data.items():\n",
    "        print(*url, file=f)"
   ]
  },
  {
   "cell_type": "markdown",
   "metadata": {
    "id": "2OXVFoHiRry3"
   },
   "source": [
    "## 5. Truy vấn and, or, not\n",
    "Ví dụ: \n",
    "- Truy vấn `and` câu `web mining`: trả về đường dẫn tới các trang web có cả 2 từ web và từ mining. \n",
    "- Truy vấn `or` câu `web mining`: trả về đường dẫn tới các trang web có từ web hoặc từ mining.\n",
    "- Truy vấn `not` câu `web mining`: trả về đường dẫn tới các trang không có cả từ web và từ mining.\n",
    "\n",
    "*GỢI Ý: TÁCH CÂU TRUY VẤN THÀNH CÁC TỪ TƯƠNG TỰ PHƯƠNG PHÁP LÀM Ở LAB02.*"
   ]
  },
  {
   "cell_type": "code",
   "execution_count": 131,
   "metadata": {
    "id": "sybM0yLHRry6"
   },
   "outputs": [],
   "source": [
    "ret=[]\n",
    "def andRetrieval(ret, sentence):\n",
    "    '''Parameters\n",
    "    -----------------------\n",
    "    ret: url_list\n",
    "    sentence: query'''\n",
    "    # TODO\n",
    "    ### split sentence (separator ' ') into terms\n",
    "    ### find urls have all terms: urls\n",
    "    ### if len(ret)==0:  return urls\n",
    "    ### else update ret with urls: intersection of ret and urls \n",
    "    keywords = set(sentence.split(' '))\n",
    "    if (len(keywords)==0 or keywords is None):\n",
    "        return\n",
    "    for url_idx, url in enumerate(url_list,1):\n",
    "        word_in_url = {}\n",
    "        read_url(url, url_idx, word_in_url)\n",
    "        set_word = set(word_in_url.keys())\n",
    "        if (keywords.issubset(set_word)):\n",
    "            ret.append(url)\n",
    "    return ret\n",
    "            \n",
    "def orRetrieval(ret, sentence):\n",
    "    '''Parameters\n",
    "    -----------------------\n",
    "    ret: url_list\n",
    "    sentence: query'''\n",
    "    # TODO\n",
    "    ### split sentence (separator ' ') into terms\n",
    "    ### find urls have all terms: urls\n",
    "    ### find urls have at least 1 term: urls\n",
    "    ### update ret with urls: extend ret with urls\n",
    "    keywords = set(sentence.split(' '))\n",
    "    if (len(keywords)==0 or keywords is None):\n",
    "        return\n",
    "    for url_idx, url in enumerate(url_list,1):\n",
    "        word_in_url = {}\n",
    "        read_url(url, url_idx, word_in_url)\n",
    "        set_word = set(word_in_url.keys())\n",
    "        if (keywords.issubset(set_word)):\n",
    "            ret.append(url)\n",
    "        elif keywords.intersection(set_word)!= set():\n",
    "            ret.append(url)\n",
    "    return ret\n",
    "\n",
    "def notRetrieval(ret, sentence):\n",
    "    '''Parameters\n",
    "    -----------------------\n",
    "    ret: url_list\n",
    "    sentence: query'''\n",
    "    # TODO\n",
    "    ### split sentence (separator ' ') into terms\n",
    "    ### find urls have at least 1 term: urls\n",
    "    ### update ret with urls: remove urls from ret\n",
    "    keywords = set(sentence.split(' '))\n",
    "    if (len(keywords)==0 or keywords is None):\n",
    "        return\n",
    "    for url_idx, url in enumerate(url_list,1):\n",
    "        word_in_url = {}\n",
    "        read_url(url, url_idx, word_in_url)\n",
    "        set_word = set(word_in_url.keys())\n",
    "        if keywords.intersection(set_word)==set():\n",
    "            ret.append(url)\n",
    "    return ret"
   ]
  },
  {
   "cell_type": "code",
   "execution_count": 132,
   "metadata": {
    "id": "1hkp7ej3qxRQ",
    "scrolled": false
   },
   "outputs": [
    {
     "name": "stdout",
     "output_type": "stream",
     "text": [
      "['https://eu.wikipedia.org/wiki/Datu-meatzaritza', 'http://www.kdnuggets.com/data_mining_course/x1-intro-to-data-mining-notes.html', 'https://en.wikipedia.org/w/index.php?title=Data_mining&amp;oldid=1145629498', 'https://ca.wikipedia.org/wiki/Mineria_de_dades', 'https://en.wikipedia.org/wiki/Web_mining', 'https://archive.org/details/dataminingconcep0000kant', 'https://it.wikipedia.org/wiki/Data_mining', 'https://en.wikipedia.org/wiki/Data_mining']\n"
     ]
    }
   ],
   "source": [
    "print(andRetrieval([], 'web mining'))"
   ]
  },
  {
   "cell_type": "code",
   "execution_count": 133,
   "metadata": {},
   "outputs": [
    {
     "name": "stdout",
     "output_type": "stream",
     "text": [
      "['https://mn.wikipedia.org/wiki/Data_mining', 'https://eu.wikipedia.org/wiki/Datu-meatzaritza', 'https://foundation.wikimedia.org/wiki/Privacy_policy', 'https://donate.wikimedia.org/wiki/Special:FundraiserRedirector?utm_source=donate&amp;utm_medium=sidebar&amp;utm_campaign=C13_en.wikipedia.org&amp;uselang=en', 'http://www.kdnuggets.com/data_mining_course/x1-intro-to-data-mining-notes.html', 'https://su.wikipedia.org/wiki/Data_mining', 'http://www.kdnuggets.com/polls/2004/data_mining_methodology.htm', 'https://www.mediawiki.org/wiki/Template:Main_page/bs', 'https://de.wikipedia.org/wiki/Data-Mining', 'https://en.wikipedia.org/w/index.php?title=Data_mining&amp;oldid=1145629498', 'https://www.wikidata.org/wiki/Special:EntityPage/Q172491', 'http://www.kdnuggets.com/polls/2007/data_mining_methodology.htm', 'https://www.doi.org/the-identifier/resources/factsheets/doi-resolution-documentation', 'https://web.archive.org/web/20140609020315/http://www.out-law.com/en/articles/2014/june/researchers-given-data-mining-right-under-new-uk-copyright-laws/', 'https://et.wikipedia.org/wiki/Andmekaeve', 'https://www.doi.org/privacy-policy/', 'https://web.archive.org/web/20141105035644/http://www.stlr.org/cite.cgi?volume=5&amp;article=2', 'https://id.loc.gov/authorities/subjects/sh97002073', 'https://www.mediawiki.org/wiki/Template:Main_page/cs', 'http://ec.europa.eu/licences-for-europe-dialogue/en/content/about-site', 'https://www.mediawiki.org/wiki/Template:Main_page/es', 'https://www.mediawiki.org/wiki/Template:Main_page/sk', 'https://lv.wikipedia.org/wiki/Datizrace', 'https://www.mediawiki.org/wiki/Template:Main_page/id', 'https://ca.wikipedia.org/wiki/Mineria_de_dades', 'https://foundation.wikimedia.org/wiki/Cookie_statement', 'https://www.wikidata.org/wiki/Q172491', 'https://hr.wikipedia.org/wiki/Rudarenje_podataka', 'https://cy.wikipedia.org/wiki/Cloddio_data', 'http://www.kdnuggets.com/polls/2002/methodology.htm', 'https://en.wikipedia.org/wiki/Web_mining', 'https://id.wikipedia.org/wiki/Penggalian_data', 'https://en.wikipedia.org/wiki/FLOSS', 'https://www.mediawiki.org/wiki/Template:Main_page/ro', 'https://az.wikipedia.org/wiki/Data_mining', 'https://archive.org/details/dataminingconcep0000kant', 'https://www.worldcat.org/oclc/50055336', 'https://www.mediawiki.org/wiki/Template:Main_page/ca', 'https://es.wikipedia.org/wiki/Miner', 'https://no.wikipedia.org/wiki/Informasjonsutvinning', 'https://it.wikipedia.org/wiki/Data_mining', 'https://www.mediawiki.org/wiki/Template:Main_page/it', 'http://www.out-law.com/en/articles/2014/june/researchers-given-data-mining-right-under-new-uk-copyright-laws/', 'https://simple.wikipedia.org/wiki/Data_mining', 'https://ru.wikipedia.org/wiki/Data_mining', 'http://www.kdd.org/curriculum/index.html', 'https://nl.wikipedia.org/wiki/Datamining', 'https://en.wikipedia.org/wiki/Data_mining', 'https://commons.wikimedia.org/wiki/Category:Data_mining', 'https://www.cambridge.org/core/product/identifier/S0269888910000378/type/journal_article']\n"
     ]
    }
   ],
   "source": [
    "print(orRetrieval([], 'web mining'))"
   ]
  },
  {
   "cell_type": "code",
   "execution_count": 134,
   "metadata": {
    "scrolled": false
   },
   "outputs": [
    {
     "name": "stdout",
     "output_type": "stream",
     "text": [
      "['https://wikis.world/', 'https://upload.wikimedia.org/wikipedia/commons/thumb/8/8f/Wikimedia_Hackathon_Prague_2019_-_Group_Photo_-_CLK_-_cropped.jpg/800px-Wikimedia_Hackathon_Prague_2019_-_Group_Photo_-_CLK_-_cropped.jpg', 'http://www.securityfocus.com/brief/277', 'https://curlie.org/Reference/Knowledge_Management/Knowledge_Discovery/Software', 'https://www.mediawiki.org/wiki/Special:MyLanguage/Code_of_Conduct', 'https://doi.org/10.1021', 'https://tr.wikipedia.org/wiki/Veri_madencili', 'https://web.archive.org/web/20130109114939/http://www.iadis.net/dl/final_uploads/200812P033.pdf', 'https://www.mediawiki.org/wiki/Template:Main_page/gu', 'https://zh-yue.wikipedia.org/wiki/', 'https://www.worldcat.org/oclc/45263753', 'https://vi.wikipedia.org/wiki/Khai_ph', 'https://www.mediawiki.org/w/index.php?title=MediaWiki&amp;oldid=3878227', 'https://upload.wikimedia.org/wikipedia/commons/thumb/8/8f/Wikimedia_Hackathon_Prague_2019_-_Group_Photo_-_CLK_-_cropped.jpg/640px-Wikimedia_Hackathon_Prague_2019_-_Group_Photo_-_CLK_-_cropped.jpg', 'https://web.archive.org/web/20140201170452/http://www.okairp.org/documents/2005', 'https://www.mediawiki.org/wiki/Template:Main_page/da', 'https://en.wikipedia.org/w/index.php?title=Template:Computer_science&amp;action=edit', 'https://hi.wikipedia.org/wiki/', 'https://www.mediawiki.org/wiki/Template:Main_page/tr', 'https://ja.wikipedia.org/wiki/', 'https://en.wiktionary.org/wiki/automatic', 'https://johnresig.com/files/research/SIAMPaper.pdf', 'https://my.wikipedia.org/wiki/', 'https://www.mediawiki.org/wiki/Template:Main_page/fa', 'https://www.mediawiki.org/wiki/Template:Main_page/he', 'http://www.kdnuggets.com/gpspubs/aimag-kdd-overview-1996-Fayyad.pdf', 'https://www.wikidata.org/wiki/Special:EntityPage/Q5296', 'https://en.wikipedia.org/w/index.php?title=Template:Machine_learning&amp;action=edit', 'https://www.mediawiki.org/wiki/Special:MyLanguage/News', 'http://uli.nli.org.il/F/?func=find-b&amp;local_base=NLX10&amp;find_code=UID&amp;request=987007556562405171', 'https://www.mediawiki.org/wiki/Template:Main_page/jv', 'https://kn.wikipedia.org/wiki/', 'https://www.mediawiki.org/wiki/Template:Main_page/fi', 'https://en.wikipedia.org/w/index.php?title=Template:Data&amp;action=edit', 'http://academic.research.microsoft.com/?SearchDomain=2&amp;SubDomain=7&amp;entitytype=2', 'https://www.mediawiki.org/wiki/Template:Main_page/pl', 'https://d-nb.info/gnd/4428654-5', 'https://doi.org/0.TYPE/HS_SIGNATURE', 'https://www.mediawiki.org/wiki/Template:Main_page/be', 'https://en.wikinews.org/wiki/Main_Page', 'https://web.archive.org/web/20091110212529/http://www-stat.stanford.edu/', 'https://en.wikisource.org/wiki/Main_Page', 'https://ta.wikipedia.org/wiki/', 'https://www.fedlex.admin.ch/eli/cc/1993/1798_1798_1798/en', 'https://commons.wikimedia.org/wiki/Main_Page', 'https://cdn.jsdelivr.net/npm/bootstrap', 'https://aleph.nkp.cz/F/?func=find-c&amp;local_base=aut&amp;ccl_term=ica=ph165954&amp;CON_LNG=ENG', 'https://en.wikivoyage.org/wiki/Main_Page', 'https://www.mediawiki.org/wiki/Template:Main_page/kk', 'http://www.lexology.com/library/detail.aspx?g=a18c5b92-5a20-4d1d-a098-a3095046a88e', 'https://www.mediawiki.org/wiki/Template:Main_page/hi', 'https://www.mediawiki.org/wiki/Template:Main_page/pt', 'https://ko.wikipedia.org/wiki/', 'https://www.mediawiki.org/wiki/Template:Main_page/th', 'https://www.mediawiki.org/wiki/Template:Main_page/af', 'https://creativecommons.org/licenses/by-sa/3.0/', 'https://sk.wikipedia.org/wiki/H', 'https://www.mediawiki.org/wiki/Template:Main_page/ms', 'https://www.mediawiki.org/wiki/Template:Main_page/ckb', 'https://www.mediawiki.org/wiki/Template:Main_page/mwl', 'https://stats.wikimedia.org/', 'https://developer.wikimedia.org', 'https://pubmed.ncbi.nlm.nih.gov/14741005', 'https://lists.wikimedia.org/hyperkitty/list/mediawiki-announce', 'https://fa.wikipedia.org/wiki/', 'https://mr.wikipedia.org/wiki/', 'https://bn.wikipedia.org/wiki/', 'http://www.kdd.org/conferences.php', 'https://www.doi.org/the-identifier/resources/handbook', 'https://www.mediawiki.org/wiki/Template:Main_page/yue', 'https://www.mediawiki.org/wiki/Template:Main_page/vi', 'https://mk.wikipedia.org/wiki/', 'https://doi.org/0.TYPE/HS_VLIST', 'https://www.ft.com/content/5dbd98ca-c491-11e8-bc21-54264d1c4647', 'https://www.doi.org', 'https://www.mediawiki.org/wiki/Template:Main_page/de', 'https://el.wikipedia.org/wiki/', 'https://papers.ssrn.com/sol3/papers.cfm?abstract_id=546782', 'https://upload.wikimedia.org/wikipedia/commons/thumb/f/fe/Kernel_Machine.svg/640px-Kernel_Machine.svg.png', 'https://www.mediawiki.org/wiki/Template:Main_page/hu', 'https://pt.wikipedia.org/wiki/Minera', 'https://www.mediawiki.org/wiki/Template:Main_page/ru', 'https://www.wikidata.org/wiki/Wikidata:Main_Page', 'https://www.mediawiki.org/wiki/Template:Main_page/bg', 'https://doi.org/10.1016', 'https://sl.wikipedia.org/wiki/Podatkovno_rudarjenje', 'https://ro.wikipedia.org/wiki/Extragerea_de_cuno', 'http://www.kdnuggets.com/meetings/kdd89/', 'https://www.mediawiki.org/wiki/Template:Main_page/sr', 'https://www.jstor.org/stable/1924403', 'https://blogs.hbr.org/cs/2012/08/dont_build_a_database_of_ruin.html', 'https://kit.fontawesome.com/731b8140c4.js', 'https://www.mediawiki.org/wiki/Template:Main_page/zh', 'https://he.wikipedia.org/wiki/', 'https://curlie.org/Computers/Software/Databases/Data_Mining/Tool_Vendors', 'https://web.archive.org/web/20100430120252/http://www.kdd.org/conferences.php', 'https://upload.wikimedia.org/wikipedia/commons/thumb/f/fe/Kernel_Machine.svg/1200px-Kernel_Machine.svg.png', 'https://www.mediawiki.org/wiki/Template:Main_page/be-tarask', 'https://pl.wikipedia.org/wiki/Eksploracja_danych', 'https://fr.wikipedia.org/wiki/Exploration_de_donn', 'https://species.wikimedia.org/wiki/Main_Page', 'https://en.wikipedia.org/w/index.php?title=Template:Data_warehouses&amp;action=edit', 'https://en.wikiversity.org/wiki/Wikiversity:Main_Page', 'https://th.wikipedia.org/wiki/', 'https://ghostarchive.org/archive/20221210/https://www.ft.com/content/5dbd98ca-c491-11e8-bc21-54264d1c4647', 'https://ghostarchive.org/archive/20221009/http://www.kdnuggets.com/gpspubs/aimag-kdd-overview-1996-Fayyad.pdf', 'https://web.archive.org/web/20081217063043/http://www.nascio.org/publications/documents/NASCIO-dataMining.pdf', 'https://upload.wikimedia.org/wikipedia/commons/thumb/8/8f/Wikimedia_Hackathon_Prague_2019_-_Group_Photo_-_CLK_-_cropped.jpg/1200px-Wikimedia_Hackathon_Prague_2019_-_Group_Photo_-_CLK_-_cropped.jpg', 'https://www.mediawiki.org/wiki/Template:Main_page/hr', 'https://www.mediawiki.org/wiki/Template:Main_page/pt-br', 'https://www.mediawiki.org/', 'https://ghostarchive.org/archive/20221009/https://johnresig.com/files/research/SIAMPaper.pdf', 'https://en.wikipedia.org/wiki/Main_Page', 'https://www.mediawiki.org/wiki/Template:Main_page/ko', 'http://www.iadis.net/dl/final_uploads/200812P033.pdf', 'https://web.archive.org/web/20141129021244/http://libereurope.eu/news/text-and-data-mining-its-importance-and-the-need-for-change-in-europe/', 'http://www.washingtonspectator.com/articles/20070315surveillance_1.cfm', 'http://libres.uncg.edu/ir/uncg/f/N_Kshetri_Big_2014.pdf', 'https://creativecommons.org/licenses/by/4.0/', 'https://wikimediafoundation.org/', 'https://ghostarchive.org/archive/20221009/https://ww2.amstat.org/committees/ethics/linksdir/Jsm2005Seltzer.pdf', 'https://doi.org/0.TYPE/DESC', 'https://scholar.google.de/citations?view_op=top_venues&amp;vq=eng_datamininganalysis', 'https://doi.org/0.TYPE/HS_SERV', 'https://www.mediawiki.org/wiki/Template:Main_page/ja', 'https://www.mediawiki.org/w/index.php?title=MediaWiki&amp;oldid=3878227</a', 'https://en.wikiquote.org/wiki/Main_Page', 'https://doi.org/10.2307', 'http://www.okairp.org/documents/2005', 'https://fonts.googleapis.com/css2?family=Roboto+Mono&family=Roboto:wght', 'https://www.mediawiki.org/wiki/Template:Main_page/so', 'https://www.mediawiki.org/wiki/Template:Main_page/ast', 'https://crsreports.congress.gov/product/pdf/R/R44257/7', 'https://commons.wikimedia.org/wiki/Category:Computer_science', 'https://doi.org/0.TYPE/HS_NAMESPACE', 'http://cs.nju.edu.cn/zhouzh/zhouzh.files/course/dm/reading/reading01/chen_tkde96.pdf', 'https://hy.wikipedia.org/wiki/', 'https://doi.org/10.1145', 'https://ms.wikipedia.org/wiki/Perlombongan_data', 'https://www.mediawiki.org/wiki/Template:Main_page/hy', 'https://doi.org/10.1007', 'http://www-stat.stanford.edu/', 'https://developer.wikimedia.org/', 'https://nn.wikipedia.org/wiki/Datautvinning', 'https://www.mediawiki.org/wiki/Template:Main_page/sl', 'https://ww2.amstat.org/committees/ethics/linksdir/Jsm2005Seltzer.pdf', 'https://ml.wikipedia.org/wiki/', 'https://as.wikipedia.org/wiki/', 'https://en.wiktionary.org/wiki/Wiktionary:Main_Page']\n"
     ]
    }
   ],
   "source": [
    "print(notRetrieval([], 'web mining'))"
   ]
  },
  {
   "cell_type": "code",
   "execution_count": null,
   "metadata": {},
   "outputs": [],
   "source": []
  }
 ],
 "metadata": {
  "colab": {
   "collapsed_sections": [],
   "name": "Copy of Lab03-WebCrawler.ipynb",
   "provenance": [],
   "toc_visible": true
  },
  "kernelspec": {
   "display_name": "Python 3 (ipykernel)",
   "language": "python",
   "name": "python3"
  },
  "language_info": {
   "codemirror_mode": {
    "name": "ipython",
    "version": 3
   },
   "file_extension": ".py",
   "mimetype": "text/x-python",
   "name": "python",
   "nbconvert_exporter": "python",
   "pygments_lexer": "ipython3",
   "version": "3.10.4"
  }
 },
 "nbformat": 4,
 "nbformat_minor": 1
}
